{
 "cells": [
  {
   "cell_type": "markdown",
   "metadata": {},
   "source": [
    "# Starbucks Capstone Challenge\n",
    "\n",
    "### Introduction\n",
    "\n",
    "This data set contains simulated data that mimics customer behavior on the Starbucks rewards mobile app. Once every few days, Starbucks sends out an offer to users of the mobile app. An offer can be merely an advertisement for a drink or an actual offer such as a discount or BOGO (buy one get one free). Some users might not receive any offer during certain weeks. \n",
    "\n",
    "Not all users receive the same offer, and that is the challenge to solve with this data set.\n",
    "\n",
    "Every offer has a validity period before the offer expires. As an example, a BOGO offer might be valid for only 5 days. You'll see in the data set that informational offers have a validity period even though these ads are merely providing information about a product; for example, if an informational offer has 7 days of validity, you can assume the customer is feeling the influence of the offer for 7 days after receiving the advertisement.\n",
    "\n",
    "You'll be given transactional data showing user purchases made on the app including the timestamp of purchase and the amount of money spent on a purchase. This transactional data also has a record for each offer that a user receives as well as a record for when a user actually views the offer. There are also records for when a user completes an offer. \n",
    "\n",
    "Keep in mind as well that someone using the app might make a purchase through the app without having received an offer or seen an offer.\n",
    "\n",
    "### Example\n",
    "\n",
    "To give an example, a user could receive a discount offer buy 10 dollars get 2 off on Monday. The offer is valid for 10 days from receipt. If the customer accumulates at least 10 dollars in purchases during the validity period, the customer completes the offer.\n",
    "\n",
    "However, there are a few things to watch out for in this data set. Customers do not opt into the offers that they receive; in other words, a user can receive an offer, never actually view the offer, and still complete the offer. For example, a user might receive the \"buy 10 dollars get 2 dollars off offer\", but the user never opens the offer during the 10 day validity period. The customer spends 15 dollars during those ten days. There will be an offer completion record in the data set; however, the customer was not influenced by the offer because the customer never viewed the offer."
   ]
  },
  {
   "cell_type": "markdown",
   "metadata": {},
   "source": [
    "# Data Sets\n",
    "\n",
    "The data is contained in three files:\n",
    "\n",
    "* portfolio.json - containing offer ids and meta data about each offer (duration, type, etc.)\n",
    "* profile.json - demographic data for each customer\n",
    "* transcript.json - records for transactions, offers received, offers viewed, and offers completed\n",
    "\n",
    "Here is the schema and explanation of each variable in the files:\n",
    "\n",
    "**portfolio.json**\n",
    "* id (string) - offer id\n",
    "* offer_type (string) - type of offer ie BOGO, discount, informational\n",
    "* difficulty (int) - minimum required spend to complete an offer\n",
    "* reward (int) - reward given for completing an offer\n",
    "* duration (int) - time for offer to be open, in days\n",
    "* channels (list of strings)\n",
    "\n",
    "**profile.json**\n",
    "* age (int) - age of the customer \n",
    "* became_member_on (int) - date when customer created an app account\n",
    "* gender (str) - gender of the customer (note some entries contain 'O' for other rather than M or F)\n",
    "* id (str) - customer id\n",
    "* income (float) - customer's income\n",
    "\n",
    "**transcript.json**\n",
    "* event (str) - record description (ie transaction, offer received, offer viewed, etc.)\n",
    "* person (str) - customer id\n",
    "* time (int) - time in hours since start of test. The data begins at time t=0\n",
    "* value - (dict of strings) - either an offer id or transaction amount depending on the record"
   ]
  },
  {
   "cell_type": "code",
   "execution_count": 179,
   "metadata": {},
   "outputs": [],
   "source": [
    "import pandas as pd\n",
    "import numpy as np\n",
    "import math\n",
    "import json\n",
    "% matplotlib inline\n",
    "\n",
    "# read in the json files\n",
    "portfolio = pd.read_json('data/portfolio.json', orient='records', lines=True)\n",
    "profile = pd.read_json('data/profile.json', orient='records', lines=True)\n",
    "transcript = pd.read_json('data/transcript.json', orient='records', lines=True)"
   ]
  },
  {
   "cell_type": "markdown",
   "metadata": {},
   "source": [
    "## 0. Problem Statement\n",
    "\n",
    "**Problem**: \n",
    "1. Whether a customer will respond the offer based on the demographics and offer type? \n",
    "2. What are the most important factors affecting customers' response?\n",
    "<br>\n",
    "\n",
    "\n",
    "**Strategy**: Building a machine learning model to predict customers' respond. \n",
    "<br>\n",
    "**Metrics**: Use accuracy to measure the performance of models if label distribution is similar "
   ]
  },
  {
   "cell_type": "markdown",
   "metadata": {},
   "source": [
    "## 1. Data Exploration / Preprocessing/Visualization"
   ]
  },
  {
   "cell_type": "markdown",
   "metadata": {},
   "source": [
    "### 1.1 Portfolio Data"
   ]
  },
  {
   "cell_type": "code",
   "execution_count": 180,
   "metadata": {},
   "outputs": [
    {
     "data": {
      "text/html": [
       "<div>\n",
       "<style scoped>\n",
       "    .dataframe tbody tr th:only-of-type {\n",
       "        vertical-align: middle;\n",
       "    }\n",
       "\n",
       "    .dataframe tbody tr th {\n",
       "        vertical-align: top;\n",
       "    }\n",
       "\n",
       "    .dataframe thead th {\n",
       "        text-align: right;\n",
       "    }\n",
       "</style>\n",
       "<table border=\"1\" class=\"dataframe\">\n",
       "  <thead>\n",
       "    <tr style=\"text-align: right;\">\n",
       "      <th></th>\n",
       "      <th>channels</th>\n",
       "      <th>difficulty</th>\n",
       "      <th>duration</th>\n",
       "      <th>id</th>\n",
       "      <th>offer_type</th>\n",
       "      <th>reward</th>\n",
       "    </tr>\n",
       "  </thead>\n",
       "  <tbody>\n",
       "    <tr>\n",
       "      <th>0</th>\n",
       "      <td>[email, mobile, social]</td>\n",
       "      <td>10</td>\n",
       "      <td>7</td>\n",
       "      <td>ae264e3637204a6fb9bb56bc8210ddfd</td>\n",
       "      <td>bogo</td>\n",
       "      <td>10</td>\n",
       "    </tr>\n",
       "    <tr>\n",
       "      <th>1</th>\n",
       "      <td>[web, email, mobile, social]</td>\n",
       "      <td>10</td>\n",
       "      <td>5</td>\n",
       "      <td>4d5c57ea9a6940dd891ad53e9dbe8da0</td>\n",
       "      <td>bogo</td>\n",
       "      <td>10</td>\n",
       "    </tr>\n",
       "    <tr>\n",
       "      <th>2</th>\n",
       "      <td>[web, email, mobile]</td>\n",
       "      <td>0</td>\n",
       "      <td>4</td>\n",
       "      <td>3f207df678b143eea3cee63160fa8bed</td>\n",
       "      <td>informational</td>\n",
       "      <td>0</td>\n",
       "    </tr>\n",
       "    <tr>\n",
       "      <th>3</th>\n",
       "      <td>[web, email, mobile]</td>\n",
       "      <td>5</td>\n",
       "      <td>7</td>\n",
       "      <td>9b98b8c7a33c4b65b9aebfe6a799e6d9</td>\n",
       "      <td>bogo</td>\n",
       "      <td>5</td>\n",
       "    </tr>\n",
       "    <tr>\n",
       "      <th>4</th>\n",
       "      <td>[web, email]</td>\n",
       "      <td>20</td>\n",
       "      <td>10</td>\n",
       "      <td>0b1e1539f2cc45b7b9fa7c272da2e1d7</td>\n",
       "      <td>discount</td>\n",
       "      <td>5</td>\n",
       "    </tr>\n",
       "    <tr>\n",
       "      <th>5</th>\n",
       "      <td>[web, email, mobile, social]</td>\n",
       "      <td>7</td>\n",
       "      <td>7</td>\n",
       "      <td>2298d6c36e964ae4a3e7e9706d1fb8c2</td>\n",
       "      <td>discount</td>\n",
       "      <td>3</td>\n",
       "    </tr>\n",
       "    <tr>\n",
       "      <th>6</th>\n",
       "      <td>[web, email, mobile, social]</td>\n",
       "      <td>10</td>\n",
       "      <td>10</td>\n",
       "      <td>fafdcd668e3743c1bb461111dcafc2a4</td>\n",
       "      <td>discount</td>\n",
       "      <td>2</td>\n",
       "    </tr>\n",
       "    <tr>\n",
       "      <th>7</th>\n",
       "      <td>[email, mobile, social]</td>\n",
       "      <td>0</td>\n",
       "      <td>3</td>\n",
       "      <td>5a8bc65990b245e5a138643cd4eb9837</td>\n",
       "      <td>informational</td>\n",
       "      <td>0</td>\n",
       "    </tr>\n",
       "    <tr>\n",
       "      <th>8</th>\n",
       "      <td>[web, email, mobile, social]</td>\n",
       "      <td>5</td>\n",
       "      <td>5</td>\n",
       "      <td>f19421c1d4aa40978ebb69ca19b0e20d</td>\n",
       "      <td>bogo</td>\n",
       "      <td>5</td>\n",
       "    </tr>\n",
       "    <tr>\n",
       "      <th>9</th>\n",
       "      <td>[web, email, mobile]</td>\n",
       "      <td>10</td>\n",
       "      <td>7</td>\n",
       "      <td>2906b810c7d4411798c6938adc9daaa5</td>\n",
       "      <td>discount</td>\n",
       "      <td>2</td>\n",
       "    </tr>\n",
       "  </tbody>\n",
       "</table>\n",
       "</div>"
      ],
      "text/plain": [
       "                       channels  difficulty  duration  \\\n",
       "0       [email, mobile, social]          10         7   \n",
       "1  [web, email, mobile, social]          10         5   \n",
       "2          [web, email, mobile]           0         4   \n",
       "3          [web, email, mobile]           5         7   \n",
       "4                  [web, email]          20        10   \n",
       "5  [web, email, mobile, social]           7         7   \n",
       "6  [web, email, mobile, social]          10        10   \n",
       "7       [email, mobile, social]           0         3   \n",
       "8  [web, email, mobile, social]           5         5   \n",
       "9          [web, email, mobile]          10         7   \n",
       "\n",
       "                                 id     offer_type  reward  \n",
       "0  ae264e3637204a6fb9bb56bc8210ddfd           bogo      10  \n",
       "1  4d5c57ea9a6940dd891ad53e9dbe8da0           bogo      10  \n",
       "2  3f207df678b143eea3cee63160fa8bed  informational       0  \n",
       "3  9b98b8c7a33c4b65b9aebfe6a799e6d9           bogo       5  \n",
       "4  0b1e1539f2cc45b7b9fa7c272da2e1d7       discount       5  \n",
       "5  2298d6c36e964ae4a3e7e9706d1fb8c2       discount       3  \n",
       "6  fafdcd668e3743c1bb461111dcafc2a4       discount       2  \n",
       "7  5a8bc65990b245e5a138643cd4eb9837  informational       0  \n",
       "8  f19421c1d4aa40978ebb69ca19b0e20d           bogo       5  \n",
       "9  2906b810c7d4411798c6938adc9daaa5       discount       2  "
      ]
     },
     "execution_count": 180,
     "metadata": {},
     "output_type": "execute_result"
    }
   ],
   "source": [
    "portfolio"
   ]
  },
  {
   "cell_type": "code",
   "execution_count": 181,
   "metadata": {},
   "outputs": [],
   "source": [
    "# Create dummies for column channels\n",
    "channels = pd.get_dummies(portfolio.channels.apply(pd.Series).stack()).sum(level=0)"
   ]
  },
  {
   "cell_type": "code",
   "execution_count": 182,
   "metadata": {},
   "outputs": [],
   "source": [
    "# Create dummies for offer_type\n",
    "offer_type  = pd.get_dummies(portfolio.offer_type)"
   ]
  },
  {
   "cell_type": "code",
   "execution_count": 183,
   "metadata": {},
   "outputs": [],
   "source": [
    "# Concatenate dataframe and drop original channels and offer_type columns.\n",
    "portfolio_clean = pd.concat([portfolio[['id', 'difficulty', 'duration', 'reward']], channels, offer_type], axis = 1)"
   ]
  },
  {
   "cell_type": "code",
   "execution_count": 184,
   "metadata": {},
   "outputs": [],
   "source": [
    "# rename id to offer_id\n",
    "portfolio_clean.rename(columns={'id':'offer_id'}, inplace=True)"
   ]
  },
  {
   "cell_type": "code",
   "execution_count": 185,
   "metadata": {},
   "outputs": [
    {
     "data": {
      "text/html": [
       "<div>\n",
       "<style scoped>\n",
       "    .dataframe tbody tr th:only-of-type {\n",
       "        vertical-align: middle;\n",
       "    }\n",
       "\n",
       "    .dataframe tbody tr th {\n",
       "        vertical-align: top;\n",
       "    }\n",
       "\n",
       "    .dataframe thead th {\n",
       "        text-align: right;\n",
       "    }\n",
       "</style>\n",
       "<table border=\"1\" class=\"dataframe\">\n",
       "  <thead>\n",
       "    <tr style=\"text-align: right;\">\n",
       "      <th></th>\n",
       "      <th>offer_id</th>\n",
       "      <th>difficulty</th>\n",
       "      <th>duration</th>\n",
       "      <th>reward</th>\n",
       "      <th>email</th>\n",
       "      <th>mobile</th>\n",
       "      <th>social</th>\n",
       "      <th>web</th>\n",
       "      <th>bogo</th>\n",
       "      <th>discount</th>\n",
       "      <th>informational</th>\n",
       "    </tr>\n",
       "  </thead>\n",
       "  <tbody>\n",
       "    <tr>\n",
       "      <th>0</th>\n",
       "      <td>ae264e3637204a6fb9bb56bc8210ddfd</td>\n",
       "      <td>10</td>\n",
       "      <td>7</td>\n",
       "      <td>10</td>\n",
       "      <td>1</td>\n",
       "      <td>1</td>\n",
       "      <td>1</td>\n",
       "      <td>0</td>\n",
       "      <td>1</td>\n",
       "      <td>0</td>\n",
       "      <td>0</td>\n",
       "    </tr>\n",
       "    <tr>\n",
       "      <th>1</th>\n",
       "      <td>4d5c57ea9a6940dd891ad53e9dbe8da0</td>\n",
       "      <td>10</td>\n",
       "      <td>5</td>\n",
       "      <td>10</td>\n",
       "      <td>1</td>\n",
       "      <td>1</td>\n",
       "      <td>1</td>\n",
       "      <td>1</td>\n",
       "      <td>1</td>\n",
       "      <td>0</td>\n",
       "      <td>0</td>\n",
       "    </tr>\n",
       "    <tr>\n",
       "      <th>2</th>\n",
       "      <td>3f207df678b143eea3cee63160fa8bed</td>\n",
       "      <td>0</td>\n",
       "      <td>4</td>\n",
       "      <td>0</td>\n",
       "      <td>1</td>\n",
       "      <td>1</td>\n",
       "      <td>0</td>\n",
       "      <td>1</td>\n",
       "      <td>0</td>\n",
       "      <td>0</td>\n",
       "      <td>1</td>\n",
       "    </tr>\n",
       "    <tr>\n",
       "      <th>3</th>\n",
       "      <td>9b98b8c7a33c4b65b9aebfe6a799e6d9</td>\n",
       "      <td>5</td>\n",
       "      <td>7</td>\n",
       "      <td>5</td>\n",
       "      <td>1</td>\n",
       "      <td>1</td>\n",
       "      <td>0</td>\n",
       "      <td>1</td>\n",
       "      <td>1</td>\n",
       "      <td>0</td>\n",
       "      <td>0</td>\n",
       "    </tr>\n",
       "    <tr>\n",
       "      <th>4</th>\n",
       "      <td>0b1e1539f2cc45b7b9fa7c272da2e1d7</td>\n",
       "      <td>20</td>\n",
       "      <td>10</td>\n",
       "      <td>5</td>\n",
       "      <td>1</td>\n",
       "      <td>0</td>\n",
       "      <td>0</td>\n",
       "      <td>1</td>\n",
       "      <td>0</td>\n",
       "      <td>1</td>\n",
       "      <td>0</td>\n",
       "    </tr>\n",
       "    <tr>\n",
       "      <th>5</th>\n",
       "      <td>2298d6c36e964ae4a3e7e9706d1fb8c2</td>\n",
       "      <td>7</td>\n",
       "      <td>7</td>\n",
       "      <td>3</td>\n",
       "      <td>1</td>\n",
       "      <td>1</td>\n",
       "      <td>1</td>\n",
       "      <td>1</td>\n",
       "      <td>0</td>\n",
       "      <td>1</td>\n",
       "      <td>0</td>\n",
       "    </tr>\n",
       "    <tr>\n",
       "      <th>6</th>\n",
       "      <td>fafdcd668e3743c1bb461111dcafc2a4</td>\n",
       "      <td>10</td>\n",
       "      <td>10</td>\n",
       "      <td>2</td>\n",
       "      <td>1</td>\n",
       "      <td>1</td>\n",
       "      <td>1</td>\n",
       "      <td>1</td>\n",
       "      <td>0</td>\n",
       "      <td>1</td>\n",
       "      <td>0</td>\n",
       "    </tr>\n",
       "    <tr>\n",
       "      <th>7</th>\n",
       "      <td>5a8bc65990b245e5a138643cd4eb9837</td>\n",
       "      <td>0</td>\n",
       "      <td>3</td>\n",
       "      <td>0</td>\n",
       "      <td>1</td>\n",
       "      <td>1</td>\n",
       "      <td>1</td>\n",
       "      <td>0</td>\n",
       "      <td>0</td>\n",
       "      <td>0</td>\n",
       "      <td>1</td>\n",
       "    </tr>\n",
       "    <tr>\n",
       "      <th>8</th>\n",
       "      <td>f19421c1d4aa40978ebb69ca19b0e20d</td>\n",
       "      <td>5</td>\n",
       "      <td>5</td>\n",
       "      <td>5</td>\n",
       "      <td>1</td>\n",
       "      <td>1</td>\n",
       "      <td>1</td>\n",
       "      <td>1</td>\n",
       "      <td>1</td>\n",
       "      <td>0</td>\n",
       "      <td>0</td>\n",
       "    </tr>\n",
       "    <tr>\n",
       "      <th>9</th>\n",
       "      <td>2906b810c7d4411798c6938adc9daaa5</td>\n",
       "      <td>10</td>\n",
       "      <td>7</td>\n",
       "      <td>2</td>\n",
       "      <td>1</td>\n",
       "      <td>1</td>\n",
       "      <td>0</td>\n",
       "      <td>1</td>\n",
       "      <td>0</td>\n",
       "      <td>1</td>\n",
       "      <td>0</td>\n",
       "    </tr>\n",
       "  </tbody>\n",
       "</table>\n",
       "</div>"
      ],
      "text/plain": [
       "                           offer_id  difficulty  duration  reward  email  \\\n",
       "0  ae264e3637204a6fb9bb56bc8210ddfd          10         7      10      1   \n",
       "1  4d5c57ea9a6940dd891ad53e9dbe8da0          10         5      10      1   \n",
       "2  3f207df678b143eea3cee63160fa8bed           0         4       0      1   \n",
       "3  9b98b8c7a33c4b65b9aebfe6a799e6d9           5         7       5      1   \n",
       "4  0b1e1539f2cc45b7b9fa7c272da2e1d7          20        10       5      1   \n",
       "5  2298d6c36e964ae4a3e7e9706d1fb8c2           7         7       3      1   \n",
       "6  fafdcd668e3743c1bb461111dcafc2a4          10        10       2      1   \n",
       "7  5a8bc65990b245e5a138643cd4eb9837           0         3       0      1   \n",
       "8  f19421c1d4aa40978ebb69ca19b0e20d           5         5       5      1   \n",
       "9  2906b810c7d4411798c6938adc9daaa5          10         7       2      1   \n",
       "\n",
       "   mobile  social  web  bogo  discount  informational  \n",
       "0       1       1    0     1         0              0  \n",
       "1       1       1    1     1         0              0  \n",
       "2       1       0    1     0         0              1  \n",
       "3       1       0    1     1         0              0  \n",
       "4       0       0    1     0         1              0  \n",
       "5       1       1    1     0         1              0  \n",
       "6       1       1    1     0         1              0  \n",
       "7       1       1    0     0         0              1  \n",
       "8       1       1    1     1         0              0  \n",
       "9       1       0    1     0         1              0  "
      ]
     },
     "execution_count": 185,
     "metadata": {},
     "output_type": "execute_result"
    }
   ],
   "source": [
    "portfolio_clean"
   ]
  },
  {
   "cell_type": "markdown",
   "metadata": {},
   "source": [
    "### 1.2 Profile Data"
   ]
  },
  {
   "cell_type": "code",
   "execution_count": 186,
   "metadata": {},
   "outputs": [
    {
     "data": {
      "text/html": [
       "<div>\n",
       "<style scoped>\n",
       "    .dataframe tbody tr th:only-of-type {\n",
       "        vertical-align: middle;\n",
       "    }\n",
       "\n",
       "    .dataframe tbody tr th {\n",
       "        vertical-align: top;\n",
       "    }\n",
       "\n",
       "    .dataframe thead th {\n",
       "        text-align: right;\n",
       "    }\n",
       "</style>\n",
       "<table border=\"1\" class=\"dataframe\">\n",
       "  <thead>\n",
       "    <tr style=\"text-align: right;\">\n",
       "      <th></th>\n",
       "      <th>age</th>\n",
       "      <th>became_member_on</th>\n",
       "      <th>gender</th>\n",
       "      <th>id</th>\n",
       "      <th>income</th>\n",
       "    </tr>\n",
       "  </thead>\n",
       "  <tbody>\n",
       "    <tr>\n",
       "      <th>0</th>\n",
       "      <td>118</td>\n",
       "      <td>20170212</td>\n",
       "      <td>None</td>\n",
       "      <td>68be06ca386d4c31939f3a4f0e3dd783</td>\n",
       "      <td>NaN</td>\n",
       "    </tr>\n",
       "    <tr>\n",
       "      <th>1</th>\n",
       "      <td>55</td>\n",
       "      <td>20170715</td>\n",
       "      <td>F</td>\n",
       "      <td>0610b486422d4921ae7d2bf64640c50b</td>\n",
       "      <td>112000.0</td>\n",
       "    </tr>\n",
       "    <tr>\n",
       "      <th>2</th>\n",
       "      <td>118</td>\n",
       "      <td>20180712</td>\n",
       "      <td>None</td>\n",
       "      <td>38fe809add3b4fcf9315a9694bb96ff5</td>\n",
       "      <td>NaN</td>\n",
       "    </tr>\n",
       "    <tr>\n",
       "      <th>3</th>\n",
       "      <td>75</td>\n",
       "      <td>20170509</td>\n",
       "      <td>F</td>\n",
       "      <td>78afa995795e4d85b5d9ceeca43f5fef</td>\n",
       "      <td>100000.0</td>\n",
       "    </tr>\n",
       "    <tr>\n",
       "      <th>4</th>\n",
       "      <td>118</td>\n",
       "      <td>20170804</td>\n",
       "      <td>None</td>\n",
       "      <td>a03223e636434f42ac4c3df47e8bac43</td>\n",
       "      <td>NaN</td>\n",
       "    </tr>\n",
       "  </tbody>\n",
       "</table>\n",
       "</div>"
      ],
      "text/plain": [
       "   age  became_member_on gender                                id    income\n",
       "0  118          20170212   None  68be06ca386d4c31939f3a4f0e3dd783       NaN\n",
       "1   55          20170715      F  0610b486422d4921ae7d2bf64640c50b  112000.0\n",
       "2  118          20180712   None  38fe809add3b4fcf9315a9694bb96ff5       NaN\n",
       "3   75          20170509      F  78afa995795e4d85b5d9ceeca43f5fef  100000.0\n",
       "4  118          20170804   None  a03223e636434f42ac4c3df47e8bac43       NaN"
      ]
     },
     "execution_count": 186,
     "metadata": {},
     "output_type": "execute_result"
    }
   ],
   "source": [
    "profile.head()"
   ]
  },
  {
   "cell_type": "code",
   "execution_count": 187,
   "metadata": {},
   "outputs": [
    {
     "data": {
      "text/plain": [
       "(17000, 5)"
      ]
     },
     "execution_count": 187,
     "metadata": {},
     "output_type": "execute_result"
    }
   ],
   "source": [
    "profile.shape"
   ]
  },
  {
   "cell_type": "code",
   "execution_count": 188,
   "metadata": {},
   "outputs": [
    {
     "data": {
      "text/plain": [
       "gender    True\n",
       "income    True\n",
       "dtype: bool"
      ]
     },
     "execution_count": 188,
     "metadata": {},
     "output_type": "execute_result"
    }
   ],
   "source": [
    "# Obs with age 118 are related to null value in gender and income.  Let's take a closer look at obs with age 118\n",
    "profile[profile.age==118][['gender','income']].isnull().all()"
   ]
  },
  {
   "cell_type": "code",
   "execution_count": 189,
   "metadata": {},
   "outputs": [
    {
     "data": {
      "text/plain": [
       "age                 False\n",
       "became_member_on    False\n",
       "gender              False\n",
       "id                  False\n",
       "income              False\n",
       "dtype: bool"
      ]
     },
     "execution_count": 189,
     "metadata": {},
     "output_type": "execute_result"
    }
   ],
   "source": [
    "# Check null value exclude obs with age 118\n",
    "profile[profile.age!=118].isnull().any()"
   ]
  },
  {
   "cell_type": "markdown",
   "metadata": {},
   "source": [
    "Age 118 seems a code represent null values in other columns. 2175 users with age 118, the largest user group by age is unnatural. Therefore, obs with age 118 will be dropped."
   ]
  },
  {
   "cell_type": "code",
   "execution_count": 190,
   "metadata": {},
   "outputs": [
    {
     "data": {
      "text/html": [
       "<div>\n",
       "<style scoped>\n",
       "    .dataframe tbody tr th:only-of-type {\n",
       "        vertical-align: middle;\n",
       "    }\n",
       "\n",
       "    .dataframe tbody tr th {\n",
       "        vertical-align: top;\n",
       "    }\n",
       "\n",
       "    .dataframe thead th {\n",
       "        text-align: right;\n",
       "    }\n",
       "</style>\n",
       "<table border=\"1\" class=\"dataframe\">\n",
       "  <thead>\n",
       "    <tr style=\"text-align: right;\">\n",
       "      <th></th>\n",
       "      <th>age</th>\n",
       "      <th>became_member_on</th>\n",
       "      <th>gender</th>\n",
       "      <th>id</th>\n",
       "      <th>income</th>\n",
       "    </tr>\n",
       "  </thead>\n",
       "  <tbody>\n",
       "    <tr>\n",
       "      <th>1</th>\n",
       "      <td>55</td>\n",
       "      <td>20170715</td>\n",
       "      <td>F</td>\n",
       "      <td>0610b486422d4921ae7d2bf64640c50b</td>\n",
       "      <td>112000.0</td>\n",
       "    </tr>\n",
       "    <tr>\n",
       "      <th>3</th>\n",
       "      <td>75</td>\n",
       "      <td>20170509</td>\n",
       "      <td>F</td>\n",
       "      <td>78afa995795e4d85b5d9ceeca43f5fef</td>\n",
       "      <td>100000.0</td>\n",
       "    </tr>\n",
       "    <tr>\n",
       "      <th>5</th>\n",
       "      <td>68</td>\n",
       "      <td>20180426</td>\n",
       "      <td>M</td>\n",
       "      <td>e2127556f4f64592b11af22de27a7932</td>\n",
       "      <td>70000.0</td>\n",
       "    </tr>\n",
       "    <tr>\n",
       "      <th>8</th>\n",
       "      <td>65</td>\n",
       "      <td>20180209</td>\n",
       "      <td>M</td>\n",
       "      <td>389bc3fa690240e798340f5a15918d5c</td>\n",
       "      <td>53000.0</td>\n",
       "    </tr>\n",
       "    <tr>\n",
       "      <th>12</th>\n",
       "      <td>58</td>\n",
       "      <td>20171111</td>\n",
       "      <td>M</td>\n",
       "      <td>2eeac8d8feae4a8cad5a6af0499a211d</td>\n",
       "      <td>51000.0</td>\n",
       "    </tr>\n",
       "  </tbody>\n",
       "</table>\n",
       "</div>"
      ],
      "text/plain": [
       "    age  became_member_on gender                                id    income\n",
       "1    55          20170715      F  0610b486422d4921ae7d2bf64640c50b  112000.0\n",
       "3    75          20170509      F  78afa995795e4d85b5d9ceeca43f5fef  100000.0\n",
       "5    68          20180426      M  e2127556f4f64592b11af22de27a7932   70000.0\n",
       "8    65          20180209      M  389bc3fa690240e798340f5a15918d5c   53000.0\n",
       "12   58          20171111      M  2eeac8d8feae4a8cad5a6af0499a211d   51000.0"
      ]
     },
     "execution_count": 190,
     "metadata": {},
     "output_type": "execute_result"
    }
   ],
   "source": [
    "# drop user with age 118\n",
    "profile_clean = profile[profile.age!=118].copy()\n",
    "profile_clean.head()"
   ]
  },
  {
   "cell_type": "code",
   "execution_count": 191,
   "metadata": {},
   "outputs": [],
   "source": [
    "# Rename id to user_id to avoid confusion with offer_id\n",
    "profile_clean.rename(columns={'id':'user_id'}, inplace = True)"
   ]
  },
  {
   "cell_type": "code",
   "execution_count": 192,
   "metadata": {},
   "outputs": [],
   "source": [
    "# Different generation may have different purchasing behabivor. Segment users' age by 10 years\n",
    "profile_clean['age_gen'] = profile_clean.age.apply(lambda x: int(x/10)*10)"
   ]
  },
  {
   "cell_type": "code",
   "execution_count": 283,
   "metadata": {},
   "outputs": [
    {
     "data": {
      "image/png": "[encoded data removed]",
      "text/plain": [
       "<matplotlib.figure.Figure at 0x7fc2bb57ffd0>"
      ]
     },
     "metadata": {},
     "output_type": "display_data"
    }
   ],
   "source": [
    "# Plot pie chart for gender percentage\n",
    "profile_clean.gender.value_counts().plot.pie(figsize=(5, 5), title ='Gender Percentage', autopct='%1.1f%%');"
   ]
  },
  {
   "cell_type": "code",
   "execution_count": 284,
   "metadata": {},
   "outputs": [
    {
     "data": {
      "image/png": "[encoded data removed]",
      "text/plain": [
       "<matplotlib.figure.Figure at 0x7fc2bb620c50>"
      ]
     },
     "metadata": {
      "needs_background": "light"
     },
     "output_type": "display_data"
    }
   ],
   "source": [
    "# Plot hisgram for user age\n",
    "profile_clean.age.plot.hist(bins=15, alpha=0.8, title ='User Age Distribution');"
   ]
  },
  {
   "cell_type": "code",
   "execution_count": 285,
   "metadata": {},
   "outputs": [
    {
     "data": {
      "image/png": "[encoded data removed]",
      "text/plain": [
       "<matplotlib.figure.Figure at 0x7fc2bb69ee48>"
      ]
     },
     "metadata": {
      "needs_background": "light"
     },
     "output_type": "display_data"
    }
   ],
   "source": [
    "profile_clean.groupby(['age_gen'])['income'].mean().plot.line(title ='Avg Income by Age Generation', figsize=(15, 5));"
   ]
  },
  {
   "cell_type": "markdown",
   "metadata": {},
   "source": [
    "Average income increases sharply till age 50s and then become relativly stable. It is interesting to know whether higher income users become less sensitive to the offer sent. "
   ]
  },
  {
   "cell_type": "code",
   "execution_count": 196,
   "metadata": {},
   "outputs": [],
   "source": [
    "# Convert became_member_on type from int to datetime\n",
    "profile_clean.became_member_on = pd.to_datetime(profile_clean.became_member_on, format='%Y%m%d')"
   ]
  },
  {
   "cell_type": "code",
   "execution_count": 197,
   "metadata": {},
   "outputs": [],
   "source": [
    "# Calculate the length of membership relative to the newest member.\n",
    "profile_clean['member_days']=(profile_clean.became_member_on.max() - profile_clean.became_member_on).dt.days"
   ]
  },
  {
   "cell_type": "code",
   "execution_count": 198,
   "metadata": {},
   "outputs": [
    {
     "data": {
      "image/png": "[encoded data removed]",
      "text/plain": [
       "<matplotlib.figure.Figure at 0x7fc2bb932710>"
      ]
     },
     "metadata": {
      "needs_background": "light"
     },
     "output_type": "display_data"
    }
   ],
   "source": [
    "# Plot histgram for membership days\n",
    "profile_clean.member_days.plot.hist(title='Relative Membership Days',figsize=(15, 5));"
   ]
  },
  {
   "cell_type": "markdown",
   "metadata": {},
   "source": [
    "More than 7000 users are members less than one years. It's interesting to know whether new members are more likely to respond to the offers."
   ]
  },
  {
   "cell_type": "markdown",
   "metadata": {},
   "source": [
    "### 1.3 Transcript Data"
   ]
  },
  {
   "cell_type": "code",
   "execution_count": 199,
   "metadata": {},
   "outputs": [
    {
     "data": {
      "text/html": [
       "<div>\n",
       "<style scoped>\n",
       "    .dataframe tbody tr th:only-of-type {\n",
       "        vertical-align: middle;\n",
       "    }\n",
       "\n",
       "    .dataframe tbody tr th {\n",
       "        vertical-align: top;\n",
       "    }\n",
       "\n",
       "    .dataframe thead th {\n",
       "        text-align: right;\n",
       "    }\n",
       "</style>\n",
       "<table border=\"1\" class=\"dataframe\">\n",
       "  <thead>\n",
       "    <tr style=\"text-align: right;\">\n",
       "      <th></th>\n",
       "      <th>event</th>\n",
       "      <th>person</th>\n",
       "      <th>time</th>\n",
       "      <th>value</th>\n",
       "    </tr>\n",
       "  </thead>\n",
       "  <tbody>\n",
       "    <tr>\n",
       "      <th>55972</th>\n",
       "      <td>offer received</td>\n",
       "      <td>0009655768c64bdeb2e877511632db8f</td>\n",
       "      <td>168</td>\n",
       "      <td>{'offer id': '5a8bc65990b245e5a138643cd4eb9837'}</td>\n",
       "    </tr>\n",
       "    <tr>\n",
       "      <th>77705</th>\n",
       "      <td>offer viewed</td>\n",
       "      <td>0009655768c64bdeb2e877511632db8f</td>\n",
       "      <td>192</td>\n",
       "      <td>{'offer id': '5a8bc65990b245e5a138643cd4eb9837'}</td>\n",
       "    </tr>\n",
       "    <tr>\n",
       "      <th>89291</th>\n",
       "      <td>transaction</td>\n",
       "      <td>0009655768c64bdeb2e877511632db8f</td>\n",
       "      <td>228</td>\n",
       "      <td>{'amount': 22.16}</td>\n",
       "    </tr>\n",
       "    <tr>\n",
       "      <th>113605</th>\n",
       "      <td>offer received</td>\n",
       "      <td>0009655768c64bdeb2e877511632db8f</td>\n",
       "      <td>336</td>\n",
       "      <td>{'offer id': '3f207df678b143eea3cee63160fa8bed'}</td>\n",
       "    </tr>\n",
       "    <tr>\n",
       "      <th>139992</th>\n",
       "      <td>offer viewed</td>\n",
       "      <td>0009655768c64bdeb2e877511632db8f</td>\n",
       "      <td>372</td>\n",
       "      <td>{'offer id': '3f207df678b143eea3cee63160fa8bed'}</td>\n",
       "    </tr>\n",
       "  </tbody>\n",
       "</table>\n",
       "</div>"
      ],
      "text/plain": [
       "                 event                            person  time  \\\n",
       "55972   offer received  0009655768c64bdeb2e877511632db8f   168   \n",
       "77705     offer viewed  0009655768c64bdeb2e877511632db8f   192   \n",
       "89291      transaction  0009655768c64bdeb2e877511632db8f   228   \n",
       "113605  offer received  0009655768c64bdeb2e877511632db8f   336   \n",
       "139992    offer viewed  0009655768c64bdeb2e877511632db8f   372   \n",
       "\n",
       "                                                   value  \n",
       "55972   {'offer id': '5a8bc65990b245e5a138643cd4eb9837'}  \n",
       "77705   {'offer id': '5a8bc65990b245e5a138643cd4eb9837'}  \n",
       "89291                                  {'amount': 22.16}  \n",
       "113605  {'offer id': '3f207df678b143eea3cee63160fa8bed'}  \n",
       "139992  {'offer id': '3f207df678b143eea3cee63160fa8bed'}  "
      ]
     },
     "execution_count": 199,
     "metadata": {},
     "output_type": "execute_result"
    }
   ],
   "source": [
    "# check Transcript data sorted by person and time\n",
    "transcript.sort_values(by=['person','time']).head()"
   ]
  },
  {
   "cell_type": "code",
   "execution_count": 200,
   "metadata": {},
   "outputs": [],
   "source": [
    "# Drop people with age 118 as they are excluded in other data\n",
    "transcript_clean = transcript[~transcript.person.isin(profile[profile.age==118]['id'])].copy()"
   ]
  },
  {
   "cell_type": "code",
   "execution_count": 201,
   "metadata": {},
   "outputs": [],
   "source": [
    "# Sort data by person and time\n",
    "transcript_clean.sort_values(by=['person','time'],inplace=True)"
   ]
  },
  {
   "cell_type": "code",
   "execution_count": 202,
   "metadata": {},
   "outputs": [
    {
     "data": {
      "text/html": [
       "<div>\n",
       "<style scoped>\n",
       "    .dataframe tbody tr th:only-of-type {\n",
       "        vertical-align: middle;\n",
       "    }\n",
       "\n",
       "    .dataframe tbody tr th {\n",
       "        vertical-align: top;\n",
       "    }\n",
       "\n",
       "    .dataframe thead th {\n",
       "        text-align: right;\n",
       "    }\n",
       "</style>\n",
       "<table border=\"1\" class=\"dataframe\">\n",
       "  <thead>\n",
       "    <tr style=\"text-align: right;\">\n",
       "      <th></th>\n",
       "      <th>event</th>\n",
       "      <th>person</th>\n",
       "      <th>time</th>\n",
       "      <th>value</th>\n",
       "    </tr>\n",
       "  </thead>\n",
       "  <tbody>\n",
       "    <tr>\n",
       "      <th>55972</th>\n",
       "      <td>offer received</td>\n",
       "      <td>0009655768c64bdeb2e877511632db8f</td>\n",
       "      <td>168</td>\n",
       "      <td>{'offer id': '5a8bc65990b245e5a138643cd4eb9837'}</td>\n",
       "    </tr>\n",
       "    <tr>\n",
       "      <th>77705</th>\n",
       "      <td>offer viewed</td>\n",
       "      <td>0009655768c64bdeb2e877511632db8f</td>\n",
       "      <td>192</td>\n",
       "      <td>{'offer id': '5a8bc65990b245e5a138643cd4eb9837'}</td>\n",
       "    </tr>\n",
       "    <tr>\n",
       "      <th>89291</th>\n",
       "      <td>transaction</td>\n",
       "      <td>0009655768c64bdeb2e877511632db8f</td>\n",
       "      <td>228</td>\n",
       "      <td>{'amount': 22.16}</td>\n",
       "    </tr>\n",
       "    <tr>\n",
       "      <th>113605</th>\n",
       "      <td>offer received</td>\n",
       "      <td>0009655768c64bdeb2e877511632db8f</td>\n",
       "      <td>336</td>\n",
       "      <td>{'offer id': '3f207df678b143eea3cee63160fa8bed'}</td>\n",
       "    </tr>\n",
       "    <tr>\n",
       "      <th>139992</th>\n",
       "      <td>offer viewed</td>\n",
       "      <td>0009655768c64bdeb2e877511632db8f</td>\n",
       "      <td>372</td>\n",
       "      <td>{'offer id': '3f207df678b143eea3cee63160fa8bed'}</td>\n",
       "    </tr>\n",
       "  </tbody>\n",
       "</table>\n",
       "</div>"
      ],
      "text/plain": [
       "                 event                            person  time  \\\n",
       "55972   offer received  0009655768c64bdeb2e877511632db8f   168   \n",
       "77705     offer viewed  0009655768c64bdeb2e877511632db8f   192   \n",
       "89291      transaction  0009655768c64bdeb2e877511632db8f   228   \n",
       "113605  offer received  0009655768c64bdeb2e877511632db8f   336   \n",
       "139992    offer viewed  0009655768c64bdeb2e877511632db8f   372   \n",
       "\n",
       "                                                   value  \n",
       "55972   {'offer id': '5a8bc65990b245e5a138643cd4eb9837'}  \n",
       "77705   {'offer id': '5a8bc65990b245e5a138643cd4eb9837'}  \n",
       "89291                                  {'amount': 22.16}  \n",
       "113605  {'offer id': '3f207df678b143eea3cee63160fa8bed'}  \n",
       "139992  {'offer id': '3f207df678b143eea3cee63160fa8bed'}  "
      ]
     },
     "execution_count": 202,
     "metadata": {},
     "output_type": "execute_result"
    }
   ],
   "source": [
    "transcript_clean.head()"
   ]
  },
  {
   "cell_type": "markdown",
   "metadata": {},
   "source": [
    "### 1.31 Transcript Offer Data"
   ]
  },
  {
   "cell_type": "code",
   "execution_count": 203,
   "metadata": {},
   "outputs": [
    {
     "data": {
      "text/html": [
       "<div>\n",
       "<style scoped>\n",
       "    .dataframe tbody tr th:only-of-type {\n",
       "        vertical-align: middle;\n",
       "    }\n",
       "\n",
       "    .dataframe tbody tr th {\n",
       "        vertical-align: top;\n",
       "    }\n",
       "\n",
       "    .dataframe thead th {\n",
       "        text-align: right;\n",
       "    }\n",
       "</style>\n",
       "<table border=\"1\" class=\"dataframe\">\n",
       "  <thead>\n",
       "    <tr style=\"text-align: right;\">\n",
       "      <th></th>\n",
       "      <th>event</th>\n",
       "      <th>person</th>\n",
       "      <th>time</th>\n",
       "      <th>value</th>\n",
       "    </tr>\n",
       "  </thead>\n",
       "  <tbody>\n",
       "    <tr>\n",
       "      <th>55972</th>\n",
       "      <td>offer received</td>\n",
       "      <td>0009655768c64bdeb2e877511632db8f</td>\n",
       "      <td>168</td>\n",
       "      <td>{'offer id': '5a8bc65990b245e5a138643cd4eb9837'}</td>\n",
       "    </tr>\n",
       "    <tr>\n",
       "      <th>77705</th>\n",
       "      <td>offer viewed</td>\n",
       "      <td>0009655768c64bdeb2e877511632db8f</td>\n",
       "      <td>192</td>\n",
       "      <td>{'offer id': '5a8bc65990b245e5a138643cd4eb9837'}</td>\n",
       "    </tr>\n",
       "    <tr>\n",
       "      <th>113605</th>\n",
       "      <td>offer received</td>\n",
       "      <td>0009655768c64bdeb2e877511632db8f</td>\n",
       "      <td>336</td>\n",
       "      <td>{'offer id': '3f207df678b143eea3cee63160fa8bed'}</td>\n",
       "    </tr>\n",
       "    <tr>\n",
       "      <th>139992</th>\n",
       "      <td>offer viewed</td>\n",
       "      <td>0009655768c64bdeb2e877511632db8f</td>\n",
       "      <td>372</td>\n",
       "      <td>{'offer id': '3f207df678b143eea3cee63160fa8bed'}</td>\n",
       "    </tr>\n",
       "    <tr>\n",
       "      <th>153401</th>\n",
       "      <td>offer received</td>\n",
       "      <td>0009655768c64bdeb2e877511632db8f</td>\n",
       "      <td>408</td>\n",
       "      <td>{'offer id': 'f19421c1d4aa40978ebb69ca19b0e20d'}</td>\n",
       "    </tr>\n",
       "  </tbody>\n",
       "</table>\n",
       "</div>"
      ],
      "text/plain": [
       "                 event                            person  time  \\\n",
       "55972   offer received  0009655768c64bdeb2e877511632db8f   168   \n",
       "77705     offer viewed  0009655768c64bdeb2e877511632db8f   192   \n",
       "113605  offer received  0009655768c64bdeb2e877511632db8f   336   \n",
       "139992    offer viewed  0009655768c64bdeb2e877511632db8f   372   \n",
       "153401  offer received  0009655768c64bdeb2e877511632db8f   408   \n",
       "\n",
       "                                                   value  \n",
       "55972   {'offer id': '5a8bc65990b245e5a138643cd4eb9837'}  \n",
       "77705   {'offer id': '5a8bc65990b245e5a138643cd4eb9837'}  \n",
       "113605  {'offer id': '3f207df678b143eea3cee63160fa8bed'}  \n",
       "139992  {'offer id': '3f207df678b143eea3cee63160fa8bed'}  \n",
       "153401  {'offer id': 'f19421c1d4aa40978ebb69ca19b0e20d'}  "
      ]
     },
     "execution_count": 203,
     "metadata": {},
     "output_type": "execute_result"
    }
   ],
   "source": [
    "# Select event related to offer\n",
    "transcript_offer = transcript_clean[transcript_clean.event!='transaction'].copy()\n",
    "transcript_offer.head()"
   ]
  },
  {
   "cell_type": "code",
   "execution_count": 204,
   "metadata": {},
   "outputs": [],
   "source": [
    "# Extract offer_id from column value\n",
    "transcript_offer['offer_id'] = transcript_offer.value.apply(lambda x: list(x.values())[0])"
   ]
  },
  {
   "cell_type": "code",
   "execution_count": 205,
   "metadata": {},
   "outputs": [],
   "source": [
    "# Drop column value\n",
    "transcript_offer.drop(columns='value', inplace=True)"
   ]
  },
  {
   "cell_type": "code",
   "execution_count": 206,
   "metadata": {},
   "outputs": [],
   "source": [
    "# Sort column by person offer_id and time\n",
    "transcript_offer.sort_values(by=['person', 'offer_id', 'time'], inplace=True)"
   ]
  },
  {
   "cell_type": "code",
   "execution_count": 207,
   "metadata": {},
   "outputs": [],
   "source": [
    "# Rename column person to user_id\n",
    "transcript_offer.rename(columns={'person':'user_id'}, inplace=True)"
   ]
  },
  {
   "cell_type": "code",
   "execution_count": 208,
   "metadata": {},
   "outputs": [],
   "source": [
    "# encode event by number reflecting the sequence\n",
    "transcript_offer['event_code'] = transcript_offer.event.map({'offer received':1, 'offer viewed':2, 'offer completed':3})"
   ]
  },
  {
   "cell_type": "code",
   "execution_count": 209,
   "metadata": {},
   "outputs": [
    {
     "data": {
      "text/html": [
       "<div>\n",
       "<style scoped>\n",
       "    .dataframe tbody tr th:only-of-type {\n",
       "        vertical-align: middle;\n",
       "    }\n",
       "\n",
       "    .dataframe tbody tr th {\n",
       "        vertical-align: top;\n",
       "    }\n",
       "\n",
       "    .dataframe thead th {\n",
       "        text-align: right;\n",
       "    }\n",
       "</style>\n",
       "<table border=\"1\" class=\"dataframe\">\n",
       "  <thead>\n",
       "    <tr style=\"text-align: right;\">\n",
       "      <th></th>\n",
       "      <th>event</th>\n",
       "      <th>user_id</th>\n",
       "      <th>time</th>\n",
       "      <th>offer_id</th>\n",
       "      <th>event_code</th>\n",
       "    </tr>\n",
       "  </thead>\n",
       "  <tbody>\n",
       "    <tr>\n",
       "      <th>247879</th>\n",
       "      <td>offer received</td>\n",
       "      <td>0009655768c64bdeb2e877511632db8f</td>\n",
       "      <td>576</td>\n",
       "      <td>2906b810c7d4411798c6938adc9daaa5</td>\n",
       "      <td>1</td>\n",
       "    </tr>\n",
       "    <tr>\n",
       "      <th>258884</th>\n",
       "      <td>offer completed</td>\n",
       "      <td>0009655768c64bdeb2e877511632db8f</td>\n",
       "      <td>576</td>\n",
       "      <td>2906b810c7d4411798c6938adc9daaa5</td>\n",
       "      <td>3</td>\n",
       "    </tr>\n",
       "    <tr>\n",
       "      <th>113605</th>\n",
       "      <td>offer received</td>\n",
       "      <td>0009655768c64bdeb2e877511632db8f</td>\n",
       "      <td>336</td>\n",
       "      <td>3f207df678b143eea3cee63160fa8bed</td>\n",
       "      <td>1</td>\n",
       "    </tr>\n",
       "    <tr>\n",
       "      <th>139992</th>\n",
       "      <td>offer viewed</td>\n",
       "      <td>0009655768c64bdeb2e877511632db8f</td>\n",
       "      <td>372</td>\n",
       "      <td>3f207df678b143eea3cee63160fa8bed</td>\n",
       "      <td>2</td>\n",
       "    </tr>\n",
       "    <tr>\n",
       "      <th>55972</th>\n",
       "      <td>offer received</td>\n",
       "      <td>0009655768c64bdeb2e877511632db8f</td>\n",
       "      <td>168</td>\n",
       "      <td>5a8bc65990b245e5a138643cd4eb9837</td>\n",
       "      <td>1</td>\n",
       "    </tr>\n",
       "  </tbody>\n",
       "</table>\n",
       "</div>"
      ],
      "text/plain": [
       "                  event                           user_id  time  \\\n",
       "247879   offer received  0009655768c64bdeb2e877511632db8f   576   \n",
       "258884  offer completed  0009655768c64bdeb2e877511632db8f   576   \n",
       "113605   offer received  0009655768c64bdeb2e877511632db8f   336   \n",
       "139992     offer viewed  0009655768c64bdeb2e877511632db8f   372   \n",
       "55972    offer received  0009655768c64bdeb2e877511632db8f   168   \n",
       "\n",
       "                                offer_id  event_code  \n",
       "247879  2906b810c7d4411798c6938adc9daaa5           1  \n",
       "258884  2906b810c7d4411798c6938adc9daaa5           3  \n",
       "113605  3f207df678b143eea3cee63160fa8bed           1  \n",
       "139992  3f207df678b143eea3cee63160fa8bed           2  \n",
       "55972   5a8bc65990b245e5a138643cd4eb9837           1  "
      ]
     },
     "execution_count": 209,
     "metadata": {},
     "output_type": "execute_result"
    }
   ],
   "source": [
    "transcript_offer.head()"
   ]
  },
  {
   "cell_type": "code",
   "execution_count": 210,
   "metadata": {},
   "outputs": [],
   "source": [
    "# Reset Index\n",
    "transcript_offer.reset_index(inplace=True)"
   ]
  },
  {
   "cell_type": "code",
   "execution_count": 211,
   "metadata": {},
   "outputs": [],
   "source": [
    "# Create column respond with default value zero\n",
    "transcript_offer['respond'] = 0"
   ]
  },
  {
   "cell_type": "code",
   "execution_count": 212,
   "metadata": {},
   "outputs": [],
   "source": [
    "# Identify the reponds which follows the sequence: offer received, offer viewed and offer completed\n",
    "for i in range(0,transcript_offer.shape[0]-2):\n",
    "    if transcript_offer.loc[i:i+2,'event_code'].tolist()==[1,2,3]: #find the event code matches the sequence\n",
    "        transcript_offer.loc[i:i+2,'respond']=1 # set their respond as value 1 \n",
    "        "
   ]
  },
  {
   "cell_type": "code",
   "execution_count": 213,
   "metadata": {},
   "outputs": [],
   "source": [
    "# Get dummies for event\n",
    "transcript_offer = pd.get_dummies(transcript_offer, columns=['event'],prefix='', prefix_sep='')"
   ]
  },
  {
   "cell_type": "code",
   "execution_count": 214,
   "metadata": {},
   "outputs": [],
   "source": [
    "# Groupby user_id and offer_id\n",
    "transcript_offer = transcript_offer.groupby(['user_id', 'offer_id'])[['respond', 'offer received', 'offer viewed', 'offer completed']].sum()\n",
    "# Column respond divided by 3\n",
    "transcript_offer.respond = transcript_offer.respond/3"
   ]
  },
  {
   "cell_type": "code",
   "execution_count": 215,
   "metadata": {},
   "outputs": [
    {
     "data": {
      "image/png": "[encoded data removed]",
      "text/plain": [
       "<matplotlib.figure.Figure at 0x7fc2bb78a780>"
      ]
     },
     "metadata": {
      "needs_background": "light"
     },
     "output_type": "display_data"
    }
   ],
   "source": [
    "# Take a general look at offer related number\n",
    "transcript_offer.sum().plot.bar(title=\"Offer Related Number\",figsize=(15, 5));"
   ]
  },
  {
   "cell_type": "markdown",
   "metadata": {},
   "source": [
    "From the bar chart above, around 1/3 completed offer are not stimulated by the received offer. "
   ]
  },
  {
   "cell_type": "markdown",
   "metadata": {},
   "source": [
    "### 1.32 Transcript Transaction Data"
   ]
  },
  {
   "cell_type": "code",
   "execution_count": 216,
   "metadata": {},
   "outputs": [],
   "source": [
    "# Select transaction event from the transcript dataset\n",
    "transcript_transaction = transcript_clean[transcript_clean.event=='transaction'].copy()"
   ]
  },
  {
   "cell_type": "code",
   "execution_count": 217,
   "metadata": {},
   "outputs": [],
   "source": [
    "# Extract value amount \n",
    "transcript_transaction.value = transcript_transaction.value.apply(lambda x: list(x.values())[0])"
   ]
  },
  {
   "cell_type": "code",
   "execution_count": 218,
   "metadata": {},
   "outputs": [],
   "source": [
    "# Rename person to user_id\n",
    "transcript_transaction.rename(columns={'person':'user_id', 'value':'spending'},inplace=True)"
   ]
  },
  {
   "cell_type": "code",
   "execution_count": 219,
   "metadata": {},
   "outputs": [],
   "source": [
    "# aggregate the spending by user_id\n",
    "transcript_transaction = transcript_transaction.groupby('user_id')[['spending']].sum()"
   ]
  },
  {
   "cell_type": "code",
   "execution_count": 220,
   "metadata": {},
   "outputs": [],
   "source": [
    "# Sort spending descending\n",
    "transcript_transaction.sort_values('spending',ascending=False, inplace=True)"
   ]
  },
  {
   "cell_type": "code",
   "execution_count": 221,
   "metadata": {},
   "outputs": [
    {
     "data": {
      "image/png": "[encoded data removed]",
      "text/plain": [
       "<matplotlib.figure.Figure at 0x7fc2bb734160>"
      ]
     },
     "metadata": {
      "needs_background": "light"
     },
     "output_type": "display_data"
    }
   ],
   "source": [
    "# Plot hist distribution for users' spending amount\n",
    "transcript_transaction.plot.hist(title='Users\\' Spending Dist',figsize=(15, 5));"
   ]
  },
  {
   "cell_type": "code",
   "execution_count": 222,
   "metadata": {},
   "outputs": [
    {
     "name": "stdout",
     "output_type": "stream",
     "text": [
      "The average amount customers spending is 119.71725089704664.\n"
     ]
    }
   ],
   "source": [
    "print('The average amount customers spending is {}.'.format(transcript_transaction.mean().values[0]))"
   ]
  },
  {
   "cell_type": "code",
   "execution_count": 223,
   "metadata": {},
   "outputs": [
    {
     "name": "stdout",
     "output_type": "stream",
     "text": [
      "The median amount customers spending is 89.86.\n"
     ]
    }
   ],
   "source": [
    "print('The median amount customers spending is {}.'.format(transcript_transaction.median().values[0]))"
   ]
  },
  {
   "cell_type": "markdown",
   "metadata": {},
   "source": [
    "### 1.33 Transcript Data Merge"
   ]
  },
  {
   "cell_type": "code",
   "execution_count": 224,
   "metadata": {},
   "outputs": [],
   "source": [
    "# Merge offer and transaction dataset by user_id\n",
    "trans_merge = transcript_offer.reset_index().merge(transcript_transaction, how='left', on='user_id')"
   ]
  },
  {
   "cell_type": "markdown",
   "metadata": {},
   "source": [
    "### 1.4 Merge Three Datasets "
   ]
  },
  {
   "cell_type": "code",
   "execution_count": 225,
   "metadata": {},
   "outputs": [],
   "source": [
    "# Merge cleaned portfolio, profile and transcript dataset\n",
    "df = trans_merge.merge(portfolio_clean, on=\"offer_id\").merge(profile_clean, on='user_id')"
   ]
  },
  {
   "cell_type": "code",
   "execution_count": 226,
   "metadata": {},
   "outputs": [
    {
     "data": {
      "text/plain": [
       "user_id                0\n",
       "offer_id               0\n",
       "respond                0\n",
       "offer received         0\n",
       "offer viewed           0\n",
       "offer completed        0\n",
       "spending            1235\n",
       "difficulty             0\n",
       "duration               0\n",
       "reward                 0\n",
       "email                  0\n",
       "mobile                 0\n",
       "social                 0\n",
       "web                    0\n",
       "bogo                   0\n",
       "discount               0\n",
       "informational          0\n",
       "age                    0\n",
       "became_member_on       0\n",
       "gender                 0\n",
       "income                 0\n",
       "age_gen                0\n",
       "member_days            0\n",
       "dtype: int64"
      ]
     },
     "execution_count": 226,
     "metadata": {},
     "output_type": "execute_result"
    }
   ],
   "source": [
    "# Check null value\n",
    "df.isnull().sum()"
   ]
  },
  {
   "cell_type": "code",
   "execution_count": 227,
   "metadata": {},
   "outputs": [],
   "source": [
    "# Fill null value in spending with 0 as some customers received offer have no transaction\n",
    "df.fillna(0, inplace=True)"
   ]
  },
  {
   "cell_type": "markdown",
   "metadata": {},
   "source": [
    "Some customers will purchase without any offer. We would like to track the spending without any offers by subtracting offer responded spending from the totol spending."
   ]
  },
  {
   "cell_type": "code",
   "execution_count": 228,
   "metadata": {},
   "outputs": [],
   "source": [
    "# Create a column offer_spending to track the spending triggered by the completed offer\n",
    "df['offer_spending']=df.respond*df.difficulty"
   ]
  },
  {
   "cell_type": "code",
   "execution_count": 229,
   "metadata": {},
   "outputs": [],
   "source": [
    "# Create a column spending wo offer to show non offer related spending\n",
    "df['spending wo offer'] = df.spending-df.groupby('user_id')['offer_spending'].transform('sum')"
   ]
  },
  {
   "cell_type": "code",
   "execution_count": 230,
   "metadata": {},
   "outputs": [],
   "source": [
    "# Recode offer_id\n",
    "df.offer_id = df.offer_id.map(dict(zip(df.offer_id.unique(), range(1,df.offer_id.nunique()+1))))"
   ]
  },
  {
   "cell_type": "code",
   "execution_count": 231,
   "metadata": {},
   "outputs": [],
   "source": [
    "# Recode offer_id\n",
    "df.user_id = df.user_id.map(dict(zip(df.user_id.unique(), range(df.user_id.nunique()))))"
   ]
  },
  {
   "cell_type": "markdown",
   "metadata": {},
   "source": [
    "### 1.41 Offer Performance by Types"
   ]
  },
  {
   "cell_type": "code",
   "execution_count": 232,
   "metadata": {},
   "outputs": [
    {
     "name": "stdout",
     "output_type": "stream",
     "text": [
      "The percentage of spending driven by BOGO and discount offer is 0.1135455563250976.\n"
     ]
    }
   ],
   "source": [
    "# Let's see how much spending is driven by the BOGO and discount offer\n",
    "print('The percentage of spending driven by BOGO and discount offer is {}.'.format((df.respond * df.difficulty).sum()/(transcript_transaction.sum())[0]))"
   ]
  },
  {
   "cell_type": "code",
   "execution_count": 233,
   "metadata": {},
   "outputs": [
    {
     "data": {
      "image/png": "[encoded data removed]",
      "text/plain": [
       "<matplotlib.figure.Figure at 0x7fc2bb709da0>"
      ]
     },
     "metadata": {
      "needs_background": "light"
     },
     "output_type": "display_data"
    }
   ],
   "source": [
    "# Plot BOGO Offer performance\n",
    "df[df.bogo==1][['respond','offer received','offer viewed', 'offer completed']].sum().plot.bar(title='BOGO Offer Performance',figsize=(15, 5));"
   ]
  },
  {
   "cell_type": "code",
   "execution_count": 234,
   "metadata": {},
   "outputs": [
    {
     "data": {
      "image/png": "[encoded data removed]",
      "text/plain": [
       "<matplotlib.figure.Figure at 0x7fc2bb72b0b8>"
      ]
     },
     "metadata": {
      "needs_background": "light"
     },
     "output_type": "display_data"
    }
   ],
   "source": [
    "# Plot Discount Offer performance\n",
    "df[df.discount==1][['respond','offer received','offer viewed', 'offer completed']].sum().plot.bar(title='Discount Offer Performance',figsize=(15, 5));"
   ]
  },
  {
   "cell_type": "code",
   "execution_count": 235,
   "metadata": {},
   "outputs": [
    {
     "data": {
      "image/png": "[encoded data removed]",
      "text/plain": [
       "<matplotlib.figure.Figure at 0x7fc2bb70f908>"
      ]
     },
     "metadata": {
      "needs_background": "light"
     },
     "output_type": "display_data"
    }
   ],
   "source": [
    "# Plot Info Offer performance\n",
    "df[df.informational==1][['offer received','offer viewed']].sum().plot.bar(title='Informational Offer Performance',figsize=(15, 5));"
   ]
  },
  {
   "cell_type": "code",
   "execution_count": 236,
   "metadata": {},
   "outputs": [],
   "source": [
    "# Find offer viewed rate, completed rate and respond rate\n",
    "offer_rate = df.groupby(['bogo','discount','informational'])[['respond','offer received','offer viewed', 'offer completed']].sum()\n",
    "offer_rate['event']=['informational', 'discount', 'bogo']"
   ]
  },
  {
   "cell_type": "code",
   "execution_count": 237,
   "metadata": {},
   "outputs": [],
   "source": [
    "offer_rate.set_index('event', inplace=True)"
   ]
  },
  {
   "cell_type": "code",
   "execution_count": 238,
   "metadata": {},
   "outputs": [],
   "source": [
    "offer_rate['viewed rate'] = offer_rate['offer viewed']/offer_rate['offer received']\n",
    "offer_rate['completed rate'] = offer_rate['offer completed']/offer_rate['offer received']\n",
    "offer_rate['respond rate'] = offer_rate['respond']/offer_rate['offer received']\n",
    "offer_rate['completed wo respond'] = offer_rate['completed rate']-offer_rate['respond rate']"
   ]
  },
  {
   "cell_type": "code",
   "execution_count": 239,
   "metadata": {},
   "outputs": [
    {
     "data": {
      "image/png": "[encoded data removed]",
      "text/plain": [
       "<matplotlib.figure.Figure at 0x7fc2c180e860>"
      ]
     },
     "metadata": {
      "needs_background": "light"
     },
     "output_type": "display_data"
    }
   ],
   "source": [
    "# Take a look at which kind of offer has better performance\n",
    "offer_rate[['viewed rate', 'completed rate', 'respond rate','completed wo respond']].plot.bar(title='Offer Performance', figsize=(15,5));"
   ]
  },
  {
   "cell_type": "markdown",
   "metadata": {},
   "source": [
    "Since informational offer doesn't need respond, it can't be compared with other offers. Although discount offer has a lower viewed rate than BOGO offer, it has a higher completed rate and respond rate."
   ]
  },
  {
   "cell_type": "code",
   "execution_count": 287,
   "metadata": {},
   "outputs": [
    {
     "data": {
      "image/png": "[encoded data removed]",
      "text/plain": [
       "<matplotlib.figure.Figure at 0x7fc2bb696588>"
      ]
     },
     "metadata": {
      "needs_background": "light"
     },
     "output_type": "display_data"
    }
   ],
   "source": [
    "# Take a deeper look at 10 offers' performance\n",
    "df.groupby(['offer_id'])[['respond','offer received','offer viewed', 'offer completed']].sum().plot.bar(title='10 Offer Performance',figsize=(20,5),rot=0);"
   ]
  },
  {
   "cell_type": "markdown",
   "metadata": {},
   "source": [
    "For the bar chart above, we can find that around equal number of 10 offers sent to customers. For informational offer, offer 3\thas higher viewed rate. Discount offer 5 have highest respond.  Discount offer 6 has the lowest respond number. One possible reason is that it has the highest difficulty. "
   ]
  },
  {
   "cell_type": "code",
   "execution_count": 241,
   "metadata": {},
   "outputs": [
    {
     "data": {
      "text/html": [
       "<div>\n",
       "<style scoped>\n",
       "    .dataframe tbody tr th:only-of-type {\n",
       "        vertical-align: middle;\n",
       "    }\n",
       "\n",
       "    .dataframe tbody tr th {\n",
       "        vertical-align: top;\n",
       "    }\n",
       "\n",
       "    .dataframe thead th {\n",
       "        text-align: right;\n",
       "    }\n",
       "</style>\n",
       "<table border=\"1\" class=\"dataframe\">\n",
       "  <thead>\n",
       "    <tr style=\"text-align: right;\">\n",
       "      <th></th>\n",
       "      <th>respond</th>\n",
       "      <th>offer received</th>\n",
       "      <th>offer viewed</th>\n",
       "      <th>offer completed</th>\n",
       "      <th>viewed rate</th>\n",
       "      <th>completed rate</th>\n",
       "      <th>respond rate</th>\n",
       "      <th>completed wo respond</th>\n",
       "    </tr>\n",
       "    <tr>\n",
       "      <th>offer_id</th>\n",
       "      <th></th>\n",
       "      <th></th>\n",
       "      <th></th>\n",
       "      <th></th>\n",
       "      <th></th>\n",
       "      <th></th>\n",
       "      <th></th>\n",
       "      <th></th>\n",
       "    </tr>\n",
       "  </thead>\n",
       "  <tbody>\n",
       "    <tr>\n",
       "      <th>1</th>\n",
       "      <td>2023.0</td>\n",
       "      <td>6631.0</td>\n",
       "      <td>3460.0</td>\n",
       "      <td>3911.0</td>\n",
       "      <td>0.521792</td>\n",
       "      <td>0.589805</td>\n",
       "      <td>0.305082</td>\n",
       "      <td>0.284723</td>\n",
       "    </tr>\n",
       "    <tr>\n",
       "      <th>2</th>\n",
       "      <td>0.0</td>\n",
       "      <td>6657.0</td>\n",
       "      <td>3487.0</td>\n",
       "      <td>0.0</td>\n",
       "      <td>0.523810</td>\n",
       "      <td>0.000000</td>\n",
       "      <td>0.000000</td>\n",
       "      <td>0.000000</td>\n",
       "    </tr>\n",
       "    <tr>\n",
       "      <th>3</th>\n",
       "      <td>0.0</td>\n",
       "      <td>6643.0</td>\n",
       "      <td>5873.0</td>\n",
       "      <td>0.0</td>\n",
       "      <td>0.884089</td>\n",
       "      <td>0.000000</td>\n",
       "      <td>0.000000</td>\n",
       "      <td>0.000000</td>\n",
       "    </tr>\n",
       "    <tr>\n",
       "      <th>4</th>\n",
       "      <td>3354.0</td>\n",
       "      <td>6576.0</td>\n",
       "      <td>6310.0</td>\n",
       "      <td>4103.0</td>\n",
       "      <td>0.959550</td>\n",
       "      <td>0.623936</td>\n",
       "      <td>0.510036</td>\n",
       "      <td>0.113899</td>\n",
       "    </tr>\n",
       "    <tr>\n",
       "      <th>5</th>\n",
       "      <td>4288.0</td>\n",
       "      <td>6652.0</td>\n",
       "      <td>6407.0</td>\n",
       "      <td>5003.0</td>\n",
       "      <td>0.963169</td>\n",
       "      <td>0.752105</td>\n",
       "      <td>0.644618</td>\n",
       "      <td>0.107486</td>\n",
       "    </tr>\n",
       "    <tr>\n",
       "      <th>6</th>\n",
       "      <td>1281.0</td>\n",
       "      <td>6726.0</td>\n",
       "      <td>2215.0</td>\n",
       "      <td>3386.0</td>\n",
       "      <td>0.329319</td>\n",
       "      <td>0.503420</td>\n",
       "      <td>0.190455</td>\n",
       "      <td>0.312965</td>\n",
       "    </tr>\n",
       "    <tr>\n",
       "      <th>7</th>\n",
       "      <td>2020.0</td>\n",
       "      <td>6685.0</td>\n",
       "      <td>3499.0</td>\n",
       "      <td>4188.0</td>\n",
       "      <td>0.523411</td>\n",
       "      <td>0.626477</td>\n",
       "      <td>0.302169</td>\n",
       "      <td>0.324308</td>\n",
       "    </tr>\n",
       "    <tr>\n",
       "      <th>8</th>\n",
       "      <td>2554.0</td>\n",
       "      <td>6683.0</td>\n",
       "      <td>5901.0</td>\n",
       "      <td>3657.0</td>\n",
       "      <td>0.882987</td>\n",
       "      <td>0.547209</td>\n",
       "      <td>0.382164</td>\n",
       "      <td>0.165046</td>\n",
       "    </tr>\n",
       "    <tr>\n",
       "      <th>9</th>\n",
       "      <td>2719.0</td>\n",
       "      <td>6593.0</td>\n",
       "      <td>6329.0</td>\n",
       "      <td>3310.0</td>\n",
       "      <td>0.959958</td>\n",
       "      <td>0.502048</td>\n",
       "      <td>0.412407</td>\n",
       "      <td>0.089641</td>\n",
       "    </tr>\n",
       "    <tr>\n",
       "      <th>10</th>\n",
       "      <td>4095.0</td>\n",
       "      <td>6655.0</td>\n",
       "      <td>6379.0</td>\n",
       "      <td>4886.0</td>\n",
       "      <td>0.958527</td>\n",
       "      <td>0.734185</td>\n",
       "      <td>0.615327</td>\n",
       "      <td>0.118858</td>\n",
       "    </tr>\n",
       "  </tbody>\n",
       "</table>\n",
       "</div>"
      ],
      "text/plain": [
       "          respond  offer received  offer viewed  offer completed  viewed rate  \\\n",
       "offer_id                                                                        \n",
       "1          2023.0          6631.0        3460.0           3911.0     0.521792   \n",
       "2             0.0          6657.0        3487.0              0.0     0.523810   \n",
       "3             0.0          6643.0        5873.0              0.0     0.884089   \n",
       "4          3354.0          6576.0        6310.0           4103.0     0.959550   \n",
       "5          4288.0          6652.0        6407.0           5003.0     0.963169   \n",
       "6          1281.0          6726.0        2215.0           3386.0     0.329319   \n",
       "7          2020.0          6685.0        3499.0           4188.0     0.523411   \n",
       "8          2554.0          6683.0        5901.0           3657.0     0.882987   \n",
       "9          2719.0          6593.0        6329.0           3310.0     0.959958   \n",
       "10         4095.0          6655.0        6379.0           4886.0     0.958527   \n",
       "\n",
       "          completed rate  respond rate  completed wo respond  \n",
       "offer_id                                                      \n",
       "1               0.589805      0.305082              0.284723  \n",
       "2               0.000000      0.000000              0.000000  \n",
       "3               0.000000      0.000000              0.000000  \n",
       "4               0.623936      0.510036              0.113899  \n",
       "5               0.752105      0.644618              0.107486  \n",
       "6               0.503420      0.190455              0.312965  \n",
       "7               0.626477      0.302169              0.324308  \n",
       "8               0.547209      0.382164              0.165046  \n",
       "9               0.502048      0.412407              0.089641  \n",
       "10              0.734185      0.615327              0.118858  "
      ]
     },
     "execution_count": 241,
     "metadata": {},
     "output_type": "execute_result"
    }
   ],
   "source": [
    "# Take a deeper look at 10 offers' performance by their rate\n",
    "offer10_rate = df.groupby(['offer_id'])[['respond','offer received','offer viewed', 'offer completed']].sum()\n",
    "offer10_rate['viewed rate'] = offer10_rate['offer viewed']/offer10_rate['offer received']\n",
    "offer10_rate['completed rate'] = offer10_rate['offer completed']/offer10_rate['offer received']\n",
    "offer10_rate['respond rate'] = offer10_rate['respond']/offer10_rate['offer received']\n",
    "offer10_rate['completed wo respond'] = offer10_rate['completed rate']-offer10_rate['respond rate']\n",
    "\n",
    "offer10_rate"
   ]
  },
  {
   "cell_type": "code",
   "execution_count": 242,
   "metadata": {},
   "outputs": [
    {
     "data": {
      "image/png": "[encoded data removed]",
      "text/plain": [
       "<matplotlib.figure.Figure at 0x7fc2bb60a470>"
      ]
     },
     "metadata": {
      "needs_background": "light"
     },
     "output_type": "display_data"
    }
   ],
   "source": [
    "offer10_rate[['viewed rate', 'completed rate', 'respond rate','completed wo respond']].plot.bar(title=' 10 Offer Performance', figsize=(15,5),rot=0);"
   ]
  },
  {
   "cell_type": "markdown",
   "metadata": {},
   "source": [
    "From rate bar chart above, three offers' completed rates are higher than viewed rate and their completed without respond rate are much higher than other offers. These kind of offers should be avoided sending to customers as they doesn't give enough incentives to customers. "
   ]
  },
  {
   "cell_type": "markdown",
   "metadata": {},
   "source": [
    "Since informational offer don't need purchasing to completed the offer, it's hard to know whether this offer boosts customers' spending. One possible way is to comparing the average non offer related spending between customers which received and viewed offer and customers without any informational offer."
   ]
  },
  {
   "cell_type": "code",
   "execution_count": 243,
   "metadata": {},
   "outputs": [
    {
     "name": "stdout",
     "output_type": "stream",
     "text": [
      "Average spending for customers viewed informational offer is $106.11421619353936.\n"
     ]
    }
   ],
   "source": [
    "# Average spending for customers viewed informational offer\n",
    "print('Average spending for customers viewed informational offer is ${}.'.format(df[(df.informational==1) & (df['offer viewed']!=0)].groupby('user_id')['spending wo offer'].mean().mean()))"
   ]
  },
  {
   "cell_type": "code",
   "execution_count": 244,
   "metadata": {},
   "outputs": [
    {
     "name": "stdout",
     "output_type": "stream",
     "text": [
      "Average spending for customers without informational offer is $105.27867615658361.\n"
     ]
    }
   ],
   "source": [
    "# Average spending for customers without informational offer\n",
    "print('Average spending for customers without informational offer is ${}.'.format(df.groupby('user_id').filter(lambda x: x.informational.sum()==0).groupby('user_id')['spending wo offer'].mean().mean()))\n"
   ]
  },
  {
   "cell_type": "markdown",
   "metadata": {},
   "source": [
    "Difference for average spending between two groups is less than one dollar. It seems that informational offer doesn't stimulate customers if informational offer was sent randomly."
   ]
  },
  {
   "cell_type": "code",
   "execution_count": 245,
   "metadata": {},
   "outputs": [
    {
     "data": {
      "image/png": "[encoded data removed]",
      "text/plain": [
       "<matplotlib.figure.Figure at 0x7fc2bb5ccf28>"
      ]
     },
     "metadata": {
      "needs_background": "light"
     },
     "output_type": "display_data"
    }
   ],
   "source": [
    "# Check customers' age distribution who viewed the informational offer \n",
    "df[(df.informational==1) & (df['offer viewed']!=0)].groupby('user_id').age.mean().plot.hist(title='Age distribution for customers viewed informational offer');"
   ]
  },
  {
   "cell_type": "code",
   "execution_count": 246,
   "metadata": {},
   "outputs": [
    {
     "data": {
      "image/png": "[encoded data removed]",
      "text/plain": [
       "<matplotlib.figure.Figure at 0x7fc2bb5956a0>"
      ]
     },
     "metadata": {
      "needs_background": "light"
     },
     "output_type": "display_data"
    }
   ],
   "source": [
    "# Check customers' age distribution without received informational offer\n",
    "df.groupby('user_id').filter(lambda x: x.informational.sum()==0).groupby('user_id').age.mean().plot.hist(title='Age distribution for customers without informational offer');"
   ]
  },
  {
   "cell_type": "markdown",
   "metadata": {},
   "source": [
    "Two groups have the similar distribution for age."
   ]
  },
  {
   "cell_type": "markdown",
   "metadata": {},
   "source": [
    "### 1.5 Offer Performance by Gender"
   ]
  },
  {
   "cell_type": "code",
   "execution_count": 247,
   "metadata": {},
   "outputs": [
    {
     "data": {
      "image/png": "[encoded data removed]",
      "text/plain": [
       "<matplotlib.figure.Figure at 0x7fc2bb510358>"
      ]
     },
     "metadata": {
      "needs_background": "light"
     },
     "output_type": "display_data"
    }
   ],
   "source": [
    "# Groupby gender\n",
    "offer_rate_gender = df.groupby('gender')[['respond','offer received','offer viewed', 'offer completed']].sum()\n",
    "offer_rate_gender['viewed rate'] = offer_rate_gender['offer viewed']/offer_rate_gender['offer received']\n",
    "offer_rate_gender['completed rate'] = offer_rate_gender['offer completed']/offer_rate_gender['offer received']\n",
    "offer_rate_gender['respond rate'] = offer_rate_gender['respond']/offer_rate_gender['offer received']\n",
    "offer_rate_gender['completed wo respond'] = offer_rate_gender['completed rate']-offer_rate_gender['respond rate']\n",
    "offer_rate_gender[['viewed rate', 'completed rate', 'respond rate','completed wo respond']].plot.bar(title='Offer Performance by Gender', figsize=(15,5),rot=0);"
   ]
  },
  {
   "cell_type": "code",
   "execution_count": 248,
   "metadata": {},
   "outputs": [
    {
     "data": {
      "text/html": [
       "<div>\n",
       "<style scoped>\n",
       "    .dataframe tbody tr th:only-of-type {\n",
       "        vertical-align: middle;\n",
       "    }\n",
       "\n",
       "    .dataframe tbody tr th {\n",
       "        vertical-align: top;\n",
       "    }\n",
       "\n",
       "    .dataframe thead th {\n",
       "        text-align: right;\n",
       "    }\n",
       "</style>\n",
       "<table border=\"1\" class=\"dataframe\">\n",
       "  <thead>\n",
       "    <tr style=\"text-align: right;\">\n",
       "      <th></th>\n",
       "      <th>respond</th>\n",
       "      <th>offer received</th>\n",
       "      <th>offer viewed</th>\n",
       "      <th>offer completed</th>\n",
       "      <th>viewed rate</th>\n",
       "      <th>completed rate</th>\n",
       "      <th>respond rate</th>\n",
       "      <th>completed wo respond</th>\n",
       "    </tr>\n",
       "    <tr>\n",
       "      <th>gender</th>\n",
       "      <th></th>\n",
       "      <th></th>\n",
       "      <th></th>\n",
       "      <th></th>\n",
       "      <th></th>\n",
       "      <th></th>\n",
       "      <th></th>\n",
       "      <th></th>\n",
       "    </tr>\n",
       "  </thead>\n",
       "  <tbody>\n",
       "    <tr>\n",
       "      <th>F</th>\n",
       "      <td>10426.0</td>\n",
       "      <td>27456.0</td>\n",
       "      <td>20786.0</td>\n",
       "      <td>15477.0</td>\n",
       "      <td>0.757066</td>\n",
       "      <td>0.563702</td>\n",
       "      <td>0.379735</td>\n",
       "      <td>0.183967</td>\n",
       "    </tr>\n",
       "    <tr>\n",
       "      <th>M</th>\n",
       "      <td>11522.0</td>\n",
       "      <td>38129.0</td>\n",
       "      <td>28301.0</td>\n",
       "      <td>16466.0</td>\n",
       "      <td>0.742243</td>\n",
       "      <td>0.431850</td>\n",
       "      <td>0.302185</td>\n",
       "      <td>0.129665</td>\n",
       "    </tr>\n",
       "    <tr>\n",
       "      <th>O</th>\n",
       "      <td>386.0</td>\n",
       "      <td>916.0</td>\n",
       "      <td>773.0</td>\n",
       "      <td>501.0</td>\n",
       "      <td>0.843886</td>\n",
       "      <td>0.546943</td>\n",
       "      <td>0.421397</td>\n",
       "      <td>0.125546</td>\n",
       "    </tr>\n",
       "  </tbody>\n",
       "</table>\n",
       "</div>"
      ],
      "text/plain": [
       "        respond  offer received  offer viewed  offer completed  viewed rate  \\\n",
       "gender                                                                        \n",
       "F       10426.0         27456.0       20786.0          15477.0     0.757066   \n",
       "M       11522.0         38129.0       28301.0          16466.0     0.742243   \n",
       "O         386.0           916.0         773.0            501.0     0.843886   \n",
       "\n",
       "        completed rate  respond rate  completed wo respond  \n",
       "gender                                                      \n",
       "F             0.563702      0.379735              0.183967  \n",
       "M             0.431850      0.302185              0.129665  \n",
       "O             0.546943      0.421397              0.125546  "
      ]
     },
     "execution_count": 248,
     "metadata": {},
     "output_type": "execute_result"
    }
   ],
   "source": [
    "offer_rate_gender"
   ]
  },
  {
   "cell_type": "markdown",
   "metadata": {},
   "source": [
    "Gender Other has highest viewed rate, completed rate and respond rate. Female have better offer performance than male."
   ]
  },
  {
   "cell_type": "markdown",
   "metadata": {},
   "source": [
    "### 1.6 Offer Performance by Age Generation"
   ]
  },
  {
   "cell_type": "code",
   "execution_count": 249,
   "metadata": {},
   "outputs": [
    {
     "data": {
      "image/png": "[encoded data removed]",
      "text/plain": [
       "<matplotlib.figure.Figure at 0x7fc2bb4ca128>"
      ]
     },
     "metadata": {
      "needs_background": "light"
     },
     "output_type": "display_data"
    }
   ],
   "source": [
    "offer_rate_age = df.groupby('age_gen')[['respond','offer received','offer viewed', 'offer completed']].sum()\n",
    "offer_rate_age['viewed rate'] = offer_rate_age['offer viewed']/offer_rate_age['offer received']\n",
    "offer_rate_age['completed rate'] = offer_rate_age['offer completed']/offer_rate_age['offer received']\n",
    "offer_rate_age['respond rate'] = offer_rate_age['respond']/offer_rate_age['offer received']\n",
    "offer_rate_age['completed wo respond'] = offer_rate_age['completed rate']-offer_rate_age['respond rate']\n",
    "offer_rate_age[['viewed rate', 'completed rate', 'respond rate','completed wo respond']].plot.bar(title='Offer Performance by Age Gen', figsize=(15,5),rot=0);"
   ]
  },
  {
   "cell_type": "code",
   "execution_count": 250,
   "metadata": {},
   "outputs": [
    {
     "data": {
      "text/html": [
       "<div>\n",
       "<style scoped>\n",
       "    .dataframe tbody tr th:only-of-type {\n",
       "        vertical-align: middle;\n",
       "    }\n",
       "\n",
       "    .dataframe tbody tr th {\n",
       "        vertical-align: top;\n",
       "    }\n",
       "\n",
       "    .dataframe thead th {\n",
       "        text-align: right;\n",
       "    }\n",
       "</style>\n",
       "<table border=\"1\" class=\"dataframe\">\n",
       "  <thead>\n",
       "    <tr style=\"text-align: right;\">\n",
       "      <th></th>\n",
       "      <th>respond</th>\n",
       "      <th>offer received</th>\n",
       "      <th>offer viewed</th>\n",
       "      <th>offer completed</th>\n",
       "      <th>viewed rate</th>\n",
       "      <th>completed rate</th>\n",
       "      <th>respond rate</th>\n",
       "      <th>completed wo respond</th>\n",
       "    </tr>\n",
       "    <tr>\n",
       "      <th>age_gen</th>\n",
       "      <th></th>\n",
       "      <th></th>\n",
       "      <th></th>\n",
       "      <th></th>\n",
       "      <th></th>\n",
       "      <th></th>\n",
       "      <th></th>\n",
       "      <th></th>\n",
       "    </tr>\n",
       "  </thead>\n",
       "  <tbody>\n",
       "    <tr>\n",
       "      <th>10</th>\n",
       "      <td>204.0</td>\n",
       "      <td>921.0</td>\n",
       "      <td>652.0</td>\n",
       "      <td>320.0</td>\n",
       "      <td>0.707926</td>\n",
       "      <td>0.347448</td>\n",
       "      <td>0.221498</td>\n",
       "      <td>0.125950</td>\n",
       "    </tr>\n",
       "    <tr>\n",
       "      <th>20</th>\n",
       "      <td>1557.0</td>\n",
       "      <td>6174.0</td>\n",
       "      <td>4261.0</td>\n",
       "      <td>2386.0</td>\n",
       "      <td>0.690152</td>\n",
       "      <td>0.386459</td>\n",
       "      <td>0.252187</td>\n",
       "      <td>0.134273</td>\n",
       "    </tr>\n",
       "    <tr>\n",
       "      <th>30</th>\n",
       "      <td>2093.0</td>\n",
       "      <td>6893.0</td>\n",
       "      <td>4976.0</td>\n",
       "      <td>3009.0</td>\n",
       "      <td>0.721892</td>\n",
       "      <td>0.436530</td>\n",
       "      <td>0.303641</td>\n",
       "      <td>0.132888</td>\n",
       "    </tr>\n",
       "    <tr>\n",
       "      <th>40</th>\n",
       "      <td>3600.0</td>\n",
       "      <td>10288.0</td>\n",
       "      <td>8111.0</td>\n",
       "      <td>4859.0</td>\n",
       "      <td>0.788394</td>\n",
       "      <td>0.472298</td>\n",
       "      <td>0.349922</td>\n",
       "      <td>0.122376</td>\n",
       "    </tr>\n",
       "    <tr>\n",
       "      <th>50</th>\n",
       "      <td>5629.0</td>\n",
       "      <td>15894.0</td>\n",
       "      <td>12008.0</td>\n",
       "      <td>8272.0</td>\n",
       "      <td>0.755505</td>\n",
       "      <td>0.520448</td>\n",
       "      <td>0.354159</td>\n",
       "      <td>0.166289</td>\n",
       "    </tr>\n",
       "    <tr>\n",
       "      <th>60</th>\n",
       "      <td>4710.0</td>\n",
       "      <td>13423.0</td>\n",
       "      <td>10172.0</td>\n",
       "      <td>6914.0</td>\n",
       "      <td>0.757804</td>\n",
       "      <td>0.515086</td>\n",
       "      <td>0.350890</td>\n",
       "      <td>0.164196</td>\n",
       "    </tr>\n",
       "    <tr>\n",
       "      <th>70</th>\n",
       "      <td>2751.0</td>\n",
       "      <td>7949.0</td>\n",
       "      <td>5946.0</td>\n",
       "      <td>4052.0</td>\n",
       "      <td>0.748019</td>\n",
       "      <td>0.509750</td>\n",
       "      <td>0.346081</td>\n",
       "      <td>0.163668</td>\n",
       "    </tr>\n",
       "    <tr>\n",
       "      <th>80</th>\n",
       "      <td>1361.0</td>\n",
       "      <td>3738.0</td>\n",
       "      <td>2833.0</td>\n",
       "      <td>2003.0</td>\n",
       "      <td>0.757892</td>\n",
       "      <td>0.535848</td>\n",
       "      <td>0.364098</td>\n",
       "      <td>0.171750</td>\n",
       "    </tr>\n",
       "    <tr>\n",
       "      <th>90</th>\n",
       "      <td>395.0</td>\n",
       "      <td>1147.0</td>\n",
       "      <td>843.0</td>\n",
       "      <td>584.0</td>\n",
       "      <td>0.734961</td>\n",
       "      <td>0.509154</td>\n",
       "      <td>0.344377</td>\n",
       "      <td>0.164778</td>\n",
       "    </tr>\n",
       "    <tr>\n",
       "      <th>100</th>\n",
       "      <td>34.0</td>\n",
       "      <td>74.0</td>\n",
       "      <td>58.0</td>\n",
       "      <td>45.0</td>\n",
       "      <td>0.783784</td>\n",
       "      <td>0.608108</td>\n",
       "      <td>0.459459</td>\n",
       "      <td>0.148649</td>\n",
       "    </tr>\n",
       "  </tbody>\n",
       "</table>\n",
       "</div>"
      ],
      "text/plain": [
       "         respond  offer received  offer viewed  offer completed  viewed rate  \\\n",
       "age_gen                                                                        \n",
       "10         204.0           921.0         652.0            320.0     0.707926   \n",
       "20        1557.0          6174.0        4261.0           2386.0     0.690152   \n",
       "30        2093.0          6893.0        4976.0           3009.0     0.721892   \n",
       "40        3600.0         10288.0        8111.0           4859.0     0.788394   \n",
       "50        5629.0         15894.0       12008.0           8272.0     0.755505   \n",
       "60        4710.0         13423.0       10172.0           6914.0     0.757804   \n",
       "70        2751.0          7949.0        5946.0           4052.0     0.748019   \n",
       "80        1361.0          3738.0        2833.0           2003.0     0.757892   \n",
       "90         395.0          1147.0         843.0            584.0     0.734961   \n",
       "100         34.0            74.0          58.0             45.0     0.783784   \n",
       "\n",
       "         completed rate  respond rate  completed wo respond  \n",
       "age_gen                                                      \n",
       "10             0.347448      0.221498              0.125950  \n",
       "20             0.386459      0.252187              0.134273  \n",
       "30             0.436530      0.303641              0.132888  \n",
       "40             0.472298      0.349922              0.122376  \n",
       "50             0.520448      0.354159              0.166289  \n",
       "60             0.515086      0.350890              0.164196  \n",
       "70             0.509750      0.346081              0.163668  \n",
       "80             0.535848      0.364098              0.171750  \n",
       "90             0.509154      0.344377              0.164778  \n",
       "100            0.608108      0.459459              0.148649  "
      ]
     },
     "execution_count": 250,
     "metadata": {},
     "output_type": "execute_result"
    }
   ],
   "source": [
    "offer_rate_age"
   ]
  },
  {
   "cell_type": "markdown",
   "metadata": {},
   "source": [
    "Respond rate increases from customers with age 20s to those 30s and become very stable from customers with age 40s to 90s. The performance in customers group 100s is the best with highest completed rate and respond rate. This is because the size for age 100s group is very small."
   ]
  },
  {
   "cell_type": "markdown",
   "metadata": {},
   "source": [
    "### 1.7 Offer Performance by Age Generation and Gender"
   ]
  },
  {
   "cell_type": "code",
   "execution_count": 251,
   "metadata": {},
   "outputs": [
    {
     "data": {
      "image/png": "[encoded data removed]",
      "text/plain": [
       "<matplotlib.figure.Figure at 0x7fc2bb493f28>"
      ]
     },
     "metadata": {
      "needs_background": "light"
     },
     "output_type": "display_data"
    }
   ],
   "source": [
    "offer_rate_age_gender = df.groupby(['age_gen','gender'])[['respond','offer received','offer viewed', 'offer completed']].sum()\n",
    "offer_rate_age_gender['viewed rate'] = offer_rate_age_gender['offer viewed']/offer_rate_age_gender['offer received']\n",
    "offer_rate_age_gender['completed rate'] = offer_rate_age_gender['offer completed']/offer_rate_age_gender['offer received']\n",
    "offer_rate_age_gender['respond rate'] = offer_rate_age_gender['respond']/offer_rate_age_gender['offer received']\n",
    "offer_rate_age_gender['completed wo respond'] = offer_rate_age_gender['completed rate']-offer_rate_age_gender['respond rate']\n",
    "offer_rate_age_gender[['viewed rate', 'completed rate', 'respond rate','completed wo respond']].plot.bar(title='Offer Performance by Age and Gender', figsize=(20,8));"
   ]
  },
  {
   "cell_type": "markdown",
   "metadata": {},
   "source": [
    "Customers with gender other and aged 40s have highest respond rate except 90s and 100s due to the small sample size."
   ]
  },
  {
   "cell_type": "markdown",
   "metadata": {},
   "source": [
    "### 1.8 Average Spending by Income Level"
   ]
  },
  {
   "cell_type": "code",
   "execution_count": 252,
   "metadata": {},
   "outputs": [],
   "source": [
    "# Create income level by 10000\n",
    "income_spend = df[['user_id','income','spending','spending wo offer']].drop_duplicates()\n",
    "income_spend['income_level'] = round(income_spend.income/10000)*10000"
   ]
  },
  {
   "cell_type": "code",
   "execution_count": 288,
   "metadata": {},
   "outputs": [
    {
     "data": {
      "image/png": "[encoded data removed]",
      "text/plain": [
       "<matplotlib.figure.Figure at 0x7fc2bb55efd0>"
      ]
     },
     "metadata": {
      "needs_background": "light"
     },
     "output_type": "display_data"
    }
   ],
   "source": [
    "# Plot the line chart\n",
    "income_spend.groupby('income_level')[['spending','spending wo offer']].mean().plot.line(title='Average Spending by Income level');"
   ]
  },
  {
   "cell_type": "markdown",
   "metadata": {},
   "source": [
    "The difference between spending and spending without offer remains stable. The weight of spending driven by the offer is decreasing as the income increases. It is common that offer is not sensitive to those with higher income. Let's see the respond rate by income level."
   ]
  },
  {
   "cell_type": "markdown",
   "metadata": {},
   "source": [
    "### 1.81 Offer Performance by Income level"
   ]
  },
  {
   "cell_type": "code",
   "execution_count": 254,
   "metadata": {},
   "outputs": [],
   "source": [
    "# Group df by user_id and append income level column to it\n",
    "income_offer = df.groupby('user_id')[['respond','offer received','offer viewed', 'offer completed']].sum()\n",
    "income_offer['income_level'] = income_spend.set_index('user_id')['income_level']"
   ]
  },
  {
   "cell_type": "code",
   "execution_count": 255,
   "metadata": {},
   "outputs": [
    {
     "data": {
      "image/png": "[encoded data removed]",
      "text/plain": [
       "<matplotlib.figure.Figure at 0x7fc2bb44c780>"
      ]
     },
     "metadata": {
      "needs_background": "light"
     },
     "output_type": "display_data"
    }
   ],
   "source": [
    "# Plot bar chart for offer performance by income level\n",
    "income_offer = income_offer.groupby('income_level')[['respond','offer received','offer viewed', 'offer completed']].sum()\n",
    "income_offer['viewed rate'] = income_offer['offer viewed']/income_offer['offer received']\n",
    "income_offer['completed rate'] = income_offer['offer completed']/income_offer['offer received']\n",
    "income_offer['respond rate'] = income_offer['respond']/income_offer['offer received']\n",
    "income_offer['completed wo respond'] = income_offer['completed rate']-income_offer['respond rate']\n",
    "income_offer[['viewed rate', 'completed rate', 'respond rate','completed wo respond']].plot.bar(title='Offer Performance by Income Level', figsize=(30,10),rot=0);"
   ]
  },
  {
   "cell_type": "markdown",
   "metadata": {},
   "source": [
    "It's interesting that respond rate increases until income level reaches $80000. The red bar completed without respond offer keeps increasing as income level increases. This shows that some offers sent to high income customers are unnecessary.  "
   ]
  },
  {
   "cell_type": "markdown",
   "metadata": {},
   "source": [
    "## 2. Model Implementation\n",
    "- Build a machine learning model to predict whether a customer will respond the offer based on the offer type and customer demographic"
   ]
  },
  {
   "cell_type": "markdown",
   "metadata": {},
   "source": [
    "### 2.1 Clean dataset"
   ]
  },
  {
   "cell_type": "code",
   "execution_count": 256,
   "metadata": {},
   "outputs": [],
   "source": [
    "# Since informational offer has no respond, it has to excluded in the dataset\n",
    "df_model = df[df.informational==0].copy()"
   ]
  },
  {
   "cell_type": "code",
   "execution_count": 257,
   "metadata": {},
   "outputs": [],
   "source": [
    "# Since we just need to know whether customers will respond to offer not how many times they will respond, set all value larger than one in column respond to one.\n",
    "df_model.respond = df_model.respond.apply(lambda x: 1 if x>=1 else 0)"
   ]
  },
  {
   "cell_type": "code",
   "execution_count": 258,
   "metadata": {},
   "outputs": [],
   "source": [
    "# Get dummies for gender\n",
    "df_model = pd.get_dummies(df_model, columns=['gender'],prefix='', prefix_sep='')"
   ]
  },
  {
   "cell_type": "code",
   "execution_count": 260,
   "metadata": {},
   "outputs": [],
   "source": [
    "# Feature email is excluded as all offers use email. No variation for email\n",
    "X=df_model[['difficulty', 'duration', 'reward', 'mobile', 'social', 'web', 'bogo', 'discount','age','income','member_days','spending wo offer', 'F', 'M', 'O']]"
   ]
  },
  {
   "cell_type": "code",
   "execution_count": 261,
   "metadata": {},
   "outputs": [],
   "source": [
    "y=df_model['respond'].values"
   ]
  },
  {
   "cell_type": "markdown",
   "metadata": {},
   "source": [
    "### 2.2 Train and Test Split"
   ]
  },
  {
   "cell_type": "code",
   "execution_count": 262,
   "metadata": {},
   "outputs": [],
   "source": [
    "from sklearn.model_selection import train_test_split\n",
    "X_train, X_test, y_train, y_test = train_test_split(X, y, random_state = 42)"
   ]
  },
  {
   "cell_type": "markdown",
   "metadata": {},
   "source": [
    "### 2.21 Scale the data"
   ]
  },
  {
   "cell_type": "code",
   "execution_count": 263,
   "metadata": {},
   "outputs": [],
   "source": [
    "from sklearn.preprocessing import MinMaxScaler\n",
    "scaler = MinMaxScaler()"
   ]
  },
  {
   "cell_type": "code",
   "execution_count": 264,
   "metadata": {},
   "outputs": [],
   "source": [
    "X_train_scaled = scaler.fit_transform(X_train)\n",
    "X_test_scaled = scaler.transform(X_test)"
   ]
  },
  {
   "cell_type": "markdown",
   "metadata": {},
   "source": [
    "### 2.3 Random Forests (Baseline) "
   ]
  },
  {
   "cell_type": "code",
   "execution_count": 265,
   "metadata": {},
   "outputs": [],
   "source": [
    "from sklearn.ensemble import RandomForestClassifier"
   ]
  },
  {
   "cell_type": "code",
   "execution_count": 266,
   "metadata": {},
   "outputs": [],
   "source": [
    "clf = RandomForestClassifier(random_state = 42)\n",
    "clf.fit(X_train_scaled, y_train)\n",
    "y_pred = clf.predict(X_test_scaled)"
   ]
  },
  {
   "cell_type": "markdown",
   "metadata": {},
   "source": [
    "#### Model Evaluation\n",
    "**Metric**: Accuracy is used for model evaluation since the class distribution is similar in the dataset.\n",
    "<br>\n",
    "Check the bar chart below"
   ]
  },
  {
   "cell_type": "code",
   "execution_count": 267,
   "metadata": {},
   "outputs": [
    {
     "data": {
      "image/png": "[encoded data removed]",
      "text/plain": [
       "<matplotlib.figure.Figure at 0x7fc2bb4d5240>"
      ]
     },
     "metadata": {
      "needs_background": "light"
     },
     "output_type": "display_data"
    }
   ],
   "source": [
    "# Plot respond distribution bar chart\n",
    "pd.DataFrame(np.asarray(np.unique(y_train,return_counts=True)).T).set_index(0).plot.bar(legend=False,\n",
    "                                                                                        use_index=False,\n",
    "                                                                                        title=\"Respond Dist\");"
   ]
  },
  {
   "cell_type": "code",
   "execution_count": 290,
   "metadata": {},
   "outputs": [
    {
     "name": "stdout",
     "output_type": "stream",
     "text": [
      "Accuracy of RF classifier on test set: 0.71\n"
     ]
    }
   ],
   "source": [
    "print('Accuracy of RF classifier on test set: {:.2f}'.format(clf.score(X_test_scaled, y_test)))"
   ]
  },
  {
   "cell_type": "markdown",
   "metadata": {},
   "source": [
    "### 2.3 Use Pipeline, GridSearchCV and Include Other Classifiers (Refinement)"
   ]
  },
  {
   "cell_type": "code",
   "execution_count": 269,
   "metadata": {},
   "outputs": [],
   "source": [
    "from sklearn.pipeline import Pipeline\n",
    "from sklearn.model_selection import GridSearchCV\n",
    "from sklearn.metrics import confusion_matrix"
   ]
  },
  {
   "cell_type": "code",
   "execution_count": 270,
   "metadata": {},
   "outputs": [],
   "source": [
    "from sklearn.linear_model import LogisticRegression\n",
    "from sklearn.neighbors import KNeighborsClassifier\n",
    "from sklearn.tree import DecisionTreeClassifier\n",
    "from sklearn import svm"
   ]
  },
  {
   "cell_type": "code",
   "execution_count": 271,
   "metadata": {},
   "outputs": [],
   "source": [
    "# Create pipelines for different classifiers\n",
    "pipe_lr = Pipeline([('scl', scaler), ('LR', LogisticRegression(random_state=42))])\n",
    "pipe_dt = Pipeline([('scl', scaler), ('DT',DecisionTreeClassifier(random_state=42))])\n",
    "pipe_rf = Pipeline([('scl', scaler), ('RF',RandomForestClassifier(random_state=42))])\n",
    "pipe_knn = Pipeline([('scl', scaler), ('KNN', KNeighborsClassifier())])\n",
    "pipe_svm = Pipeline([('scl', scaler), ('SVM', svm.SVC(random_state=42))])"
   ]
  },
  {
   "cell_type": "code",
   "execution_count": 272,
   "metadata": {},
   "outputs": [],
   "source": [
    "# Set parameters for gridsearchcv\n",
    "param_range = [1, 2, 3, 4, 5, 6]\n",
    "param_range_fl = [1.0, 0.5, 0.1]\n",
    "n_estimators = [10, 50, 80, 100]\n",
    "\n",
    "lr_param_grid = [{'LR__penalty': ['l1', 'l2'],\n",
    "                   'LR__C': param_range_fl,\n",
    "                   'LR__solver': ['liblinear']}]\n",
    "dt_param_grid = [{'DT__criterion': ['gini', 'entropy'],\n",
    "                   'DT__min_samples_leaf': param_range,\n",
    "                   'DT__max_depth': param_range,\n",
    "                   'DT__min_samples_split': param_range[1:]}]\n",
    "rf_param_grid = [{'RF__min_samples_leaf': param_range,\n",
    "                   'RF__max_depth': param_range,\n",
    "                   'RF__min_samples_split': param_range[1:]}]\n",
    "knn_param_grid = [{'KNN__n_neighbors': param_range,\n",
    "                   'KNN__weights': ['uniform', 'distance'],\n",
    "                   'KNN__metric': ['euclidean', 'manhattan']}]\n",
    "svm_param_grid = [{'SVM__kernel': ['linear', 'rbf'], \n",
    "                    'SVM__C': param_range}]"
   ]
  },
  {
   "cell_type": "code",
   "execution_count": 273,
   "metadata": {},
   "outputs": [],
   "source": [
    "# Use grid search for different classifier\n",
    "lr_grid_search = GridSearchCV(estimator=pipe_lr, param_grid=lr_param_grid,scoring='accuracy')\n",
    "dt_grid_search = GridSearchCV(estimator=pipe_dt,param_grid=dt_param_grid,scoring='accuracy')\n",
    "rf_grid_search = GridSearchCV(estimator=pipe_rf,param_grid=rf_param_grid,scoring='accuracy')\n",
    "knn_grid_search = GridSearchCV(estimator=pipe_knn,param_grid=knn_param_grid,scoring='accuracy')\n",
    "svm_grid_search = GridSearchCV(estimator=pipe_svm,param_grid=svm_param_grid,scoring='accuracy')"
   ]
  },
  {
   "cell_type": "code",
   "execution_count": 276,
   "metadata": {},
   "outputs": [
    {
     "name": "stdout",
     "output_type": "stream",
     "text": [
      "CPU times: user 28min 19s, sys: 4.2 s, total: 28min 24s\n",
      "Wall time: 28min 27s\n"
     ]
    }
   ],
   "source": [
    "%%time \n",
    "# Run time around 30 mins\n",
    "# Fit models\n",
    "grids = [lr_grid_search, dt_grid_search, rf_grid_search, knn_grid_search, svm_grid_search]\n",
    "for pipe in grids:\n",
    "    pipe.fit(X_train,y_train)"
   ]
  },
  {
   "cell_type": "code",
   "execution_count": 293,
   "metadata": {},
   "outputs": [
    {
     "name": "stdout",
     "output_type": "stream",
     "text": [
      "Logistic Regression Best Params: {'LR__C': 0.5, 'LR__penalty': 'l1', 'LR__solver': 'liblinear'}\n",
      "Decision Trees Best Params: {'DT__criterion': 'entropy', 'DT__max_depth': 6, 'DT__min_samples_leaf': 4, 'DT__min_samples_split': 2}\n",
      "Random Forest Best Params: {'RF__max_depth': 6, 'RF__min_samples_leaf': 1, 'RF__min_samples_split': 2}\n",
      "K-Nearest Neighbors Best Params: {'KNN__metric': 'manhattan', 'KNN__n_neighbors': 5, 'KNN__weights': 'uniform'}\n",
      "Support Vector Machines Best Params: {'SVM__C': 6, 'SVM__kernel': 'rbf'}\n"
     ]
    }
   ],
   "source": [
    "# Display models' accuracy and models' best parameters\n",
    "grid_dict = {0: 'Logistic Regression', 1: 'Decision Trees', \n",
    "             2: 'Random Forest', 3: 'K-Nearest Neighbors', \n",
    "             4: 'Support Vector Machines'}\n",
    "clf_name=[]\n",
    "accu=[]\n",
    "for i, model in enumerate(grids):\n",
    "    print('{} Best Params: {}'.format(grid_dict[i], model.best_params_))\n",
    "    clf_name.append(grid_dict[i])\n",
    "    accu.append(model.score(X_test,y_test))\n",
    "clf_accu = pd.DataFrame.from_dict({'clf_name': clf_name,'accuracy':accu})"
   ]
  },
  {
   "cell_type": "code",
   "execution_count": 294,
   "metadata": {},
   "outputs": [
    {
     "data": {
      "text/html": [
       "<div>\n",
       "<style scoped>\n",
       "    .dataframe tbody tr th:only-of-type {\n",
       "        vertical-align: middle;\n",
       "    }\n",
       "\n",
       "    .dataframe tbody tr th {\n",
       "        vertical-align: top;\n",
       "    }\n",
       "\n",
       "    .dataframe thead th {\n",
       "        text-align: right;\n",
       "    }\n",
       "</style>\n",
       "<table border=\"1\" class=\"dataframe\">\n",
       "  <thead>\n",
       "    <tr style=\"text-align: right;\">\n",
       "      <th></th>\n",
       "      <th>clf_name</th>\n",
       "      <th>accuracy</th>\n",
       "    </tr>\n",
       "  </thead>\n",
       "  <tbody>\n",
       "    <tr>\n",
       "      <th>0</th>\n",
       "      <td>Logistic Regression</td>\n",
       "      <td>0.705595</td>\n",
       "    </tr>\n",
       "    <tr>\n",
       "      <th>1</th>\n",
       "      <td>Decision Trees</td>\n",
       "      <td>0.734474</td>\n",
       "    </tr>\n",
       "    <tr>\n",
       "      <th>2</th>\n",
       "      <td>Random Forest</td>\n",
       "      <td>0.735017</td>\n",
       "    </tr>\n",
       "    <tr>\n",
       "      <th>3</th>\n",
       "      <td>K-Nearest Neighbors</td>\n",
       "      <td>0.697266</td>\n",
       "    </tr>\n",
       "    <tr>\n",
       "      <th>4</th>\n",
       "      <td>Support Vector Machines</td>\n",
       "      <td>0.714557</td>\n",
       "    </tr>\n",
       "  </tbody>\n",
       "</table>\n",
       "</div>"
      ],
      "text/plain": [
       "                  clf_name  accuracy\n",
       "0      Logistic Regression  0.705595\n",
       "1           Decision Trees  0.734474\n",
       "2            Random Forest  0.735017\n",
       "3      K-Nearest Neighbors  0.697266\n",
       "4  Support Vector Machines  0.714557"
      ]
     },
     "execution_count": 294,
     "metadata": {},
     "output_type": "execute_result"
    }
   ],
   "source": [
    "# classifiers accuracy table\n",
    "clf_accu"
   ]
  },
  {
   "cell_type": "code",
   "execution_count": 279,
   "metadata": {},
   "outputs": [
    {
     "data": {
      "image/png": "[encoded data removed]",
      "text/plain": [
       "<matplotlib.figure.Figure at 0x7fc2bb50cda0>"
      ]
     },
     "metadata": {
      "needs_background": "light"
     },
     "output_type": "display_data"
    }
   ],
   "source": [
    "# Plot bar chart for classifier accuracy\n",
    "clf_accu.sort_values('accuracy',ascending=False).set_index('clf_name').plot.bar(title='Classifier Accuracy', figsize=(15,5),rot=0);"
   ]
  },
  {
   "cell_type": "code",
   "execution_count": 280,
   "metadata": {},
   "outputs": [],
   "source": [
    "# Plot best classifier's confusion matrix\n",
    "y_pred = rf_grid_search.predict(X_test)\n",
    "labels = np.unique(y_pred)\n",
    "bestcf_matrix = confusion_matrix(y_test, y_pred, labels=labels)"
   ]
  },
  {
   "cell_type": "code",
   "execution_count": 281,
   "metadata": {},
   "outputs": [
    {
     "data": {
      "image/png": "[encoded data removed]",
      "text/plain": [
       "<matplotlib.figure.Figure at 0x7fc2bb5dd160>"
      ]
     },
     "metadata": {
      "needs_background": "light"
     },
     "output_type": "display_data"
    }
   ],
   "source": [
    "import seaborn as sns\n",
    "import matplotlib.pyplot as plt\n",
    "\n",
    "ax = sns.heatmap(bestcf_matrix/np.sum(bestcf_matrix), annot=True, fmt='.2%',cmap='Blues')\n",
    "\n",
    "ax.set_title('Confusion Matrix\\n\\n');\n",
    "ax.set_xlabel('\\nPredicted Values')\n",
    "ax.set_ylabel('Actual Values ');\n",
    "\n",
    "# Ticket labels\n",
    "ax.xaxis.set_ticklabels(['No Respond','Respond'])\n",
    "ax.yaxis.set_ticklabels(['No Respond','Respond'])\n",
    "\n",
    "plt.show()"
   ]
  },
  {
   "cell_type": "markdown",
   "metadata": {},
   "source": [
    "#### Model Evaluation and Validation\n",
    "Compared to baseline model, ramdom forest is still the best classifier. After using cross validation and grid search for parameters, the accuracy for random forest increases more than 2.5%.  The best parameters for random forest is {'RF__max_depth': 6, 'RF__min_samples_leaf': 1, 'RF__min_samples_split': 2}\n",
    "#### Justification\n",
    "One possible explanation why random forest performs slightly better than other is that creating random subsets of the features and building smaller trees using those subsets can avoid the overfitting. "
   ]
  },
  {
   "cell_type": "code",
   "execution_count": 282,
   "metadata": {},
   "outputs": [
    {
     "data": {
      "image/png": "[encoded data removed]",
      "text/plain": [
       "<matplotlib.figure.Figure at 0x7fc2bb57f278>"
      ]
     },
     "metadata": {
      "needs_background": "light"
     },
     "output_type": "display_data"
    }
   ],
   "source": [
    "# Create feature importance dataframe\n",
    "feature_importance = pd.DataFrame(rf_grid_search.best_estimator_.named_steps[\"RF\"].feature_importances_,index=X.columns.tolist(),columns=['feat_imp'])\n",
    "feature_importance.sort_values('feat_imp',ascending=False,inplace=True)\n",
    "\n",
    "feature_importance.plot.bar(title='Feature Importance Rank', figsize=(15,5),rot=45);"
   ]
  },
  {
   "cell_type": "markdown",
   "metadata": {},
   "source": [
    "The top five most important features are:\n",
    "- spending without offer\n",
    "- member days\n",
    "- social\n",
    "- reward\n",
    "- duration\n"
   ]
  },
  {
   "cell_type": "markdown",
   "metadata": {},
   "source": [
    "## Conclusion\n",
    "### Reflection\n",
    "By using random forest model, customers' response can be predicted by their demographics and the offer type. \n",
    "\n",
    "The amount of spending without offer and the length of membership are the top two most important factors when customers decide whether to respond the offer.\n",
    "\n",
    "The social media is the most important channel to deliver offer to customers.\n",
    "\n",
    "Reward and duration are the fourth and fifth important features. If reward is too low and the duration is too short, it's hard for customers to respond the offer.\n",
    "\n",
    "One difficulty in this project is to measure the degree of incentives that offers brought to customers. Although I consider that a customer responds the offer if he/she follows the sequence: receive, view and complete offers, some customers' transaction labeled as respond may still be driven by their routine purchasing behavior. In other word, they will buy the coffee anyway with or without offer. \n",
    "\n",
    "Another difficulty is to precisely measure the influence of the informational offers. It's hard to tell their influence since the average spending between customers who viewed the offer and who didn't received the offer is minimal. Besides the transaction time and offer duration, no other links are offered to identify the relationship between them. Therefore, informational offers are excluded from the model.\n",
    "\n",
    "### Improvement\n",
    "- In current model, I didn't include the frequency of transactions per customers.  This factor can be added to the future improvement. \n",
    "- The time of transactions can also be utilized in the future improvement. If a customer transact multiple time, whether transactions happen shortly after he/she views the offer or they happen randomly or equally sparse can tell us the degree of offers' incentive. To realize this feature, the length of the test should be longer.  \n",
    "- Instead of predicting whether a customer will respond the offer, building an offer recommendation engine can also be an improvement of the project. "
   ]
  },
  {
   "cell_type": "code",
   "execution_count": null,
   "metadata": {},
   "outputs": [],
   "source": []
  }
 ],
 "metadata": {
  "kernelspec": {
   "display_name": "Python 3",
   "language": "python",
   "name": "python3"
  },
  "language_info": {
   "codemirror_mode": {
    "name": "ipython",
    "version": 3
   },
   "file_extension": ".py",
   "mimetype": "text/x-python",
   "name": "python",
   "nbconvert_exporter": "python",
   "pygments_lexer": "ipython3",
   "version": "3.6.3"
  }
 },
 "nbformat": 4,
 "nbformat_minor": 2
}
